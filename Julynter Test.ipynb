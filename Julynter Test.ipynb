{
 "cells": [
  {
   "cell_type": "markdown",
   "metadata": {},
   "source": [
    "Inspect github projects"
   ]
  },
  {
   "cell_type": "code",
   "execution_count": 1,
   "metadata": {},
   "outputs": [],
   "source": [
    "import pandas as pd\n",
    "import matplotlib.pyplot as plt"
   ]
  },
  {
   "cell_type": "code",
   "execution_count": 2,
   "metadata": {},
   "outputs": [],
   "source": [
    "projects = pd.read_csv('C:\\\\Users\\\\felipecrp\\\\Research\\\\Release\\\\Drafts\\\\2019-minining-releases\\\\experiment\\\\projects.csv')"
   ]
  },
  {
   "cell_type": "code",
   "execution_count": 3,
   "metadata": {},
   "outputs": [
    {
     "data": {
      "text/html": [
       "<div>\n",
       "<style scoped>\n",
       "    .dataframe tbody tr th:only-of-type {\n",
       "        vertical-align: middle;\n",
       "    }\n",
       "\n",
       "    .dataframe tbody tr th {\n",
       "        vertical-align: top;\n",
       "    }\n",
       "\n",
       "    .dataframe thead th {\n",
       "        text-align: right;\n",
       "    }\n",
       "</style>\n",
       "<table border=\"1\" class=\"dataframe\">\n",
       "  <thead>\n",
       "    <tr style=\"text-align: right;\">\n",
       "      <th></th>\n",
       "      <th>Unnamed: 0</th>\n",
       "      <th>name</th>\n",
       "      <th>lang</th>\n",
       "      <th>stars</th>\n",
       "      <th>commits</th>\n",
       "      <th>issues</th>\n",
       "      <th>tags</th>\n",
       "      <th>releases</th>\n",
       "      <th>last_commit</th>\n",
       "      <th>description</th>\n",
       "      <th>url</th>\n",
       "    </tr>\n",
       "  </thead>\n",
       "  <tbody>\n",
       "    <tr>\n",
       "      <th>0</th>\n",
       "      <td>1</td>\n",
       "      <td>vuejs/vue</td>\n",
       "      <td>javascript</td>\n",
       "      <td>168654</td>\n",
       "      <td>3104</td>\n",
       "      <td>9091</td>\n",
       "      <td>249</td>\n",
       "      <td>208</td>\n",
       "      <td>2020-07-01 09:11:46+00:00</td>\n",
       "      <td>🖖 Vue.js is a progressive, incrementally-adopt...</td>\n",
       "      <td>https://github.com/vuejs/vue</td>\n",
       "    </tr>\n",
       "    <tr>\n",
       "      <th>1</th>\n",
       "      <td>2</td>\n",
       "      <td>facebook/react</td>\n",
       "      <td>javascript</td>\n",
       "      <td>152833</td>\n",
       "      <td>13426</td>\n",
       "      <td>9390</td>\n",
       "      <td>131</td>\n",
       "      <td>90</td>\n",
       "      <td>2020-07-25 11:32:21+00:00</td>\n",
       "      <td>A declarative, efficient, and flexible JavaScr...</td>\n",
       "      <td>https://github.com/facebook/react</td>\n",
       "    </tr>\n",
       "    <tr>\n",
       "      <th>2</th>\n",
       "      <td>3</td>\n",
       "      <td>twbs/bootstrap</td>\n",
       "      <td>javascript</td>\n",
       "      <td>143082</td>\n",
       "      <td>19914</td>\n",
       "      <td>19463</td>\n",
       "      <td>59</td>\n",
       "      <td>59</td>\n",
       "      <td>2020-07-21 17:17:28+00:00</td>\n",
       "      <td>The most popular HTML, CSS, and JavaScript fra...</td>\n",
       "      <td>https://github.com/twbs/bootstrap</td>\n",
       "    </tr>\n",
       "    <tr>\n",
       "      <th>3</th>\n",
       "      <td>5</td>\n",
       "      <td>d3/d3</td>\n",
       "      <td>javascript</td>\n",
       "      <td>92570</td>\n",
       "      <td>4215</td>\n",
       "      <td>2047</td>\n",
       "      <td>263</td>\n",
       "      <td>155</td>\n",
       "      <td>2020-04-20 17:58:56+00:00</td>\n",
       "      <td>Bring data to life with SVG, Canvas and HTML. ...</td>\n",
       "      <td>https://github.com/d3/d3</td>\n",
       "    </tr>\n",
       "    <tr>\n",
       "      <th>4</th>\n",
       "      <td>6</td>\n",
       "      <td>facebook/react-native</td>\n",
       "      <td>javascript</td>\n",
       "      <td>88903</td>\n",
       "      <td>20551</td>\n",
       "      <td>19796</td>\n",
       "      <td>347</td>\n",
       "      <td>147</td>\n",
       "      <td>2020-07-25 20:45:11+00:00</td>\n",
       "      <td>A framework for building native apps with React.</td>\n",
       "      <td>https://github.com/facebook/react-native</td>\n",
       "    </tr>\n",
       "  </tbody>\n",
       "</table>\n",
       "</div>"
      ],
      "text/plain": [
       "   Unnamed: 0                   name        lang   stars  commits  issues  \\\n",
       "0           1              vuejs/vue  javascript  168654     3104    9091   \n",
       "1           2         facebook/react  javascript  152833    13426    9390   \n",
       "2           3         twbs/bootstrap  javascript  143082    19914   19463   \n",
       "3           5                  d3/d3  javascript   92570     4215    2047   \n",
       "4           6  facebook/react-native  javascript   88903    20551   19796   \n",
       "\n",
       "   tags  releases                last_commit  \\\n",
       "0   249       208  2020-07-01 09:11:46+00:00   \n",
       "1   131        90  2020-07-25 11:32:21+00:00   \n",
       "2    59        59  2020-07-21 17:17:28+00:00   \n",
       "3   263       155  2020-04-20 17:58:56+00:00   \n",
       "4   347       147  2020-07-25 20:45:11+00:00   \n",
       "\n",
       "                                         description  \\\n",
       "0  🖖 Vue.js is a progressive, incrementally-adopt...   \n",
       "1  A declarative, efficient, and flexible JavaScr...   \n",
       "2  The most popular HTML, CSS, and JavaScript fra...   \n",
       "3  Bring data to life with SVG, Canvas and HTML. ...   \n",
       "4   A framework for building native apps with React.   \n",
       "\n",
       "                                        url  \n",
       "0              https://github.com/vuejs/vue  \n",
       "1         https://github.com/facebook/react  \n",
       "2         https://github.com/twbs/bootstrap  \n",
       "3                  https://github.com/d3/d3  \n",
       "4  https://github.com/facebook/react-native  "
      ]
     },
     "execution_count": 3,
     "metadata": {},
     "output_type": "execute_result"
    }
   ],
   "source": [
    "projects.head()"
   ]
  },
  {
   "cell_type": "markdown",
   "metadata": {},
   "source": [
    "Generate github clone command"
   ]
  },
  {
   "cell_type": "code",
   "execution_count": 4,
   "metadata": {
    "collapsed": true,
    "jupyter": {
     "outputs_hidden": true
    }
   },
   "outputs": [
    {
     "name": "stdout",
     "output_type": "stream",
     "text": [
      "if (Test-Path vuejs/vue) { cd vuejs\\vue; git pull; cd ..\\.. } else { mkdir vuejs/vue; cd vuejs/vue; git clone git@github.com:vuejs/vue.git . ; cd ..\\.. }\n",
      "if (Test-Path facebook/react) { cd facebook\\react; git pull; cd ..\\.. } else { mkdir facebook/react; cd facebook/react; git clone git@github.com:facebook/react.git . ; cd ..\\.. }\n",
      "if (Test-Path twbs/bootstrap) { cd twbs\\bootstrap; git pull; cd ..\\.. } else { mkdir twbs/bootstrap; cd twbs/bootstrap; git clone git@github.com:twbs/bootstrap.git . ; cd ..\\.. }\n",
      "if (Test-Path d3/d3) { cd d3\\d3; git pull; cd ..\\.. } else { mkdir d3/d3; cd d3/d3; git clone git@github.com:d3/d3.git . ; cd ..\\.. }\n",
      "if (Test-Path facebook/react-native) { cd facebook\\react-native; git pull; cd ..\\.. } else { mkdir facebook/react-native; cd facebook/react-native; git clone git@github.com:facebook/react-native.git . ; cd ..\\.. }\n",
      "if (Test-Path facebook/create-react-app) { cd facebook\\create-react-app; git pull; cd ..\\.. } else { mkdir facebook/create-react-app; cd facebook/create-react-app; git clone git@github.com:facebook/create-react-app.git . ; cd ..\\.. }\n",
      "if (Test-Path nodejs/node) { cd nodejs\\node; git pull; cd ..\\.. } else { mkdir nodejs/node; cd nodejs/node; git clone git@github.com:nodejs/node.git . ; cd ..\\.. }\n",
      "if (Test-Path mrdoob/three.js) { cd mrdoob\\three.js; git pull; cd ..\\.. } else { mkdir mrdoob/three.js; cd mrdoob/three.js; git clone git@github.com:mrdoob/three.js.git . ; cd ..\\.. }\n",
      "if (Test-Path mui-org/material-ui) { cd mui-org\\material-ui; git pull; cd ..\\.. } else { mkdir mui-org/material-ui; cd mui-org/material-ui; git clone git@github.com:mui-org/material-ui.git . ; cd ..\\.. }\n",
      "if (Test-Path angular/angular.js) { cd angular\\angular.js; git pull; cd ..\\.. } else { mkdir angular/angular.js; cd angular/angular.js; git clone git@github.com:angular/angular.js.git . ; cd ..\\.. }\n",
      "if (Test-Path microsoft/vscode) { cd microsoft\\vscode; git pull; cd ..\\.. } else { mkdir microsoft/vscode; cd microsoft/vscode; git clone git@github.com:microsoft/vscode.git . ; cd ..\\.. }\n",
      "if (Test-Path denoland/deno) { cd denoland\\deno; git pull; cd ..\\.. } else { mkdir denoland/deno; cd denoland/deno; git clone git@github.com:denoland/deno.git . ; cd ..\\.. }\n",
      "if (Test-Path angular/angular) { cd angular\\angular; git pull; cd ..\\.. } else { mkdir angular/angular; cd angular/angular; git clone git@github.com:angular/angular.git . ; cd ..\\.. }\n",
      "if (Test-Path microsoft/TypeScript) { cd microsoft\\TypeScript; git pull; cd ..\\.. } else { mkdir microsoft/TypeScript; cd microsoft/TypeScript; git clone git@github.com:microsoft/TypeScript.git . ; cd ..\\.. }\n",
      "if (Test-Path ant-design/ant-design) { cd ant-design\\ant-design; git pull; cd ..\\.. } else { mkdir ant-design/ant-design; cd ant-design/ant-design; git clone git@github.com:ant-design/ant-design.git . ; cd ..\\.. }\n",
      "if (Test-Path reduxjs/redux) { cd reduxjs\\redux; git pull; cd ..\\.. } else { mkdir reduxjs/redux; cd reduxjs/redux; git clone git@github.com:reduxjs/redux.git . ; cd ..\\.. }\n",
      "if (Test-Path storybookjs/storybook) { cd storybookjs\\storybook; git pull; cd ..\\.. } else { mkdir storybookjs/storybook; cd storybookjs/storybook; git clone git@github.com:storybookjs/storybook.git . ; cd ..\\.. }\n",
      "if (Test-Path ionic-team/ionic-framework) { cd ionic-team\\ionic-framework; git pull; cd ..\\.. } else { mkdir ionic-team/ionic-framework; cd ionic-team/ionic-framework; git clone git@github.com:ionic-team/ionic-framework.git . ; cd ..\\.. }\n",
      "if (Test-Path grafana/grafana) { cd grafana\\grafana; git pull; cd ..\\.. } else { mkdir grafana/grafana; cd grafana/grafana; git clone git@github.com:grafana/grafana.git . ; cd ..\\.. }\n",
      "if (Test-Path facebook/jest) { cd facebook\\jest; git pull; cd ..\\.. } else { mkdir facebook/jest; cd facebook/jest; git clone git@github.com:facebook/jest.git . ; cd ..\\.. }\n",
      "if (Test-Path elastic/elasticsearch) { cd elastic\\elasticsearch; git pull; cd ..\\.. } else { mkdir elastic/elasticsearch; cd elastic/elasticsearch; git clone git@github.com:elastic/elasticsearch.git . ; cd ..\\.. }\n",
      "if (Test-Path spring-projects/spring-boot) { cd spring-projects\\spring-boot; git pull; cd ..\\.. } else { mkdir spring-projects/spring-boot; cd spring-projects/spring-boot; git clone git@github.com:spring-projects/spring-boot.git . ; cd ..\\.. }\n",
      "if (Test-Path ReactiveX/RxJava) { cd ReactiveX\\RxJava; git pull; cd ..\\.. } else { mkdir ReactiveX/RxJava; cd ReactiveX/RxJava; git clone git@github.com:ReactiveX/RxJava.git . ; cd ..\\.. }\n",
      "if (Test-Path spring-projects/spring-framework) { cd spring-projects\\spring-framework; git pull; cd ..\\.. } else { mkdir spring-projects/spring-framework; cd spring-projects/spring-framework; git clone git@github.com:spring-projects/spring-framework.git . ; cd ..\\.. }\n",
      "if (Test-Path google/guava) { cd google\\guava; git pull; cd ..\\.. } else { mkdir google/guava; cd google/guava; git clone git@github.com:google/guava.git . ; cd ..\\.. }\n",
      "if (Test-Path square/okhttp) { cd square\\okhttp; git pull; cd ..\\.. } else { mkdir square/okhttp; cd square/okhttp; git clone git@github.com:square/okhttp.git . ; cd ..\\.. }\n",
      "if (Test-Path apache/dubbo) { cd apache\\dubbo; git pull; cd ..\\.. } else { mkdir apache/dubbo; cd apache/dubbo; git clone git@github.com:apache/dubbo.git . ; cd ..\\.. }\n",
      "if (Test-Path PhilJay/MPAndroidChart) { cd PhilJay\\MPAndroidChart; git pull; cd ..\\.. } else { mkdir PhilJay/MPAndroidChart; cd PhilJay/MPAndroidChart; git clone git@github.com:PhilJay/MPAndroidChart.git . ; cd ..\\.. }\n",
      "if (Test-Path bumptech/glide) { cd bumptech\\glide; git pull; cd ..\\.. } else { mkdir bumptech/glide; cd bumptech/glide; git clone git@github.com:bumptech/glide.git . ; cd ..\\.. }\n",
      "if (Test-Path zxing/zxing) { cd zxing\\zxing; git pull; cd ..\\.. } else { mkdir zxing/zxing; cd zxing/zxing; git clone git@github.com:zxing/zxing.git . ; cd ..\\.. }\n",
      "if (Test-Path ytdl-org/youtube-dl) { cd ytdl-org\\youtube-dl; git pull; cd ..\\.. } else { mkdir ytdl-org/youtube-dl; cd ytdl-org/youtube-dl; git clone git@github.com:ytdl-org/youtube-dl.git . ; cd ..\\.. }\n",
      "if (Test-Path pallets/flask) { cd pallets\\flask; git pull; cd ..\\.. } else { mkdir pallets/flask; cd pallets/flask; git clone git@github.com:pallets/flask.git . ; cd ..\\.. }\n",
      "if (Test-Path django/django) { cd django\\django; git pull; cd ..\\.. } else { mkdir django/django; cd django/django; git clone git@github.com:django/django.git . ; cd ..\\.. }\n",
      "if (Test-Path keras-team/keras) { cd keras-team\\keras; git pull; cd ..\\.. } else { mkdir keras-team/keras; cd keras-team/keras; git clone git@github.com:keras-team/keras.git . ; cd ..\\.. }\n",
      "if (Test-Path ansible/ansible) { cd ansible\\ansible; git pull; cd ..\\.. } else { mkdir ansible/ansible; cd ansible/ansible; git clone git@github.com:ansible/ansible.git . ; cd ..\\.. }\n",
      "if (Test-Path psf/requests) { cd psf\\requests; git pull; cd ..\\.. } else { mkdir psf/requests; cd psf/requests; git clone git@github.com:psf/requests.git . ; cd ..\\.. }\n",
      "if (Test-Path scikit-learn/scikit-learn) { cd scikit-learn\\scikit-learn; git pull; cd ..\\.. } else { mkdir scikit-learn/scikit-learn; cd scikit-learn/scikit-learn; git clone git@github.com:scikit-learn/scikit-learn.git . ; cd ..\\.. }\n",
      "if (Test-Path scrapy/scrapy) { cd scrapy\\scrapy; git pull; cd ..\\.. } else { mkdir scrapy/scrapy; cd scrapy/scrapy; git clone git@github.com:scrapy/scrapy.git . ; cd ..\\.. }\n",
      "if (Test-Path home-assistant/core) { cd home-assistant\\core; git pull; cd ..\\.. } else { mkdir home-assistant/core; cd home-assistant/core; git clone git@github.com:home-assistant/core.git . ; cd ..\\.. }\n",
      "if (Test-Path soimort/you-get) { cd soimort\\you-get; git pull; cd ..\\.. } else { mkdir soimort/you-get; cd soimort/you-get; git clone git@github.com:soimort/you-get.git . ; cd ..\\.. }\n",
      "if (Test-Path laravel/laravel) { cd laravel\\laravel; git pull; cd ..\\.. } else { mkdir laravel/laravel; cd laravel/laravel; git clone git@github.com:laravel/laravel.git . ; cd ..\\.. }\n",
      "if (Test-Path fzaninotto/Faker) { cd fzaninotto\\Faker; git pull; cd ..\\.. } else { mkdir fzaninotto/Faker; cd fzaninotto/Faker; git clone git@github.com:fzaninotto/Faker.git . ; cd ..\\.. }\n",
      "if (Test-Path symfony/symfony) { cd symfony\\symfony; git pull; cd ..\\.. } else { mkdir symfony/symfony; cd symfony/symfony; git clone git@github.com:symfony/symfony.git . ; cd ..\\.. }\n",
      "if (Test-Path composer/composer) { cd composer\\composer; git pull; cd ..\\.. } else { mkdir composer/composer; cd composer/composer; git clone git@github.com:composer/composer.git . ; cd ..\\.. }\n",
      "if (Test-Path laravel/framework) { cd laravel\\framework; git pull; cd ..\\.. } else { mkdir laravel/framework; cd laravel/framework; git clone git@github.com:laravel/framework.git . ; cd ..\\.. }\n",
      "if (Test-Path guzzle/guzzle) { cd guzzle\\guzzle; git pull; cd ..\\.. } else { mkdir guzzle/guzzle; cd guzzle/guzzle; git clone git@github.com:guzzle/guzzle.git . ; cd ..\\.. }\n",
      "if (Test-Path bcit-ci/CodeIgniter) { cd bcit-ci\\CodeIgniter; git pull; cd ..\\.. } else { mkdir bcit-ci/CodeIgniter; cd bcit-ci/CodeIgniter; git clone git@github.com:bcit-ci/CodeIgniter.git . ; cd ..\\.. }\n",
      "if (Test-Path sebastianbergmann/phpunit) { cd sebastianbergmann\\phpunit; git pull; cd ..\\.. } else { mkdir sebastianbergmann/phpunit; cd sebastianbergmann/phpunit; git clone git@github.com:sebastianbergmann/phpunit.git . ; cd ..\\.. }\n",
      "if (Test-Path briannesbitt/Carbon) { cd briannesbitt\\Carbon; git pull; cd ..\\.. } else { mkdir briannesbitt/Carbon; cd briannesbitt/Carbon; git clone git@github.com:briannesbitt/Carbon.git . ; cd ..\\.. }\n",
      "if (Test-Path WordPress/WordPress) { cd WordPress\\WordPress; git pull; cd ..\\.. } else { mkdir WordPress/WordPress; cd WordPress/WordPress; git clone git@github.com:WordPress/WordPress.git . ; cd ..\\.. }\n",
      "if (Test-Path electron/electron) { cd electron\\electron; git pull; cd ..\\.. } else { mkdir electron/electron; cd electron/electron; git clone git@github.com:electron/electron.git . ; cd ..\\.. }\n",
      "if (Test-Path opencv/opencv) { cd opencv\\opencv; git pull; cd ..\\.. } else { mkdir opencv/opencv; cd opencv/opencv; git clone git@github.com:opencv/opencv.git . ; cd ..\\.. }\n",
      "if (Test-Path bitcoin/bitcoin) { cd bitcoin\\bitcoin; git pull; cd ..\\.. } else { mkdir bitcoin/bitcoin; cd bitcoin/bitcoin; git clone git@github.com:bitcoin/bitcoin.git . ; cd ..\\.. }\n",
      "if (Test-Path protocolbuffers/protobuf) { cd protocolbuffers\\protobuf; git pull; cd ..\\.. } else { mkdir protocolbuffers/protobuf; cd protocolbuffers/protobuf; git clone git@github.com:protocolbuffers/protobuf.git . ; cd ..\\.. }\n",
      "if (Test-Path pytorch/pytorch) { cd pytorch\\pytorch; git pull; cd ..\\.. } else { mkdir pytorch/pytorch; cd pytorch/pytorch; git clone git@github.com:pytorch/pytorch.git . ; cd ..\\.. }\n",
      "if (Test-Path tesseract-ocr/tesseract) { cd tesseract-ocr\\tesseract; git pull; cd ..\\.. } else { mkdir tesseract-ocr/tesseract; cd tesseract-ocr/tesseract; git clone git@github.com:tesseract-ocr/tesseract.git . ; cd ..\\.. }\n",
      "if (Test-Path x64dbg/x64dbg) { cd x64dbg\\x64dbg; git pull; cd ..\\.. } else { mkdir x64dbg/x64dbg; cd x64dbg/x64dbg; git clone git@github.com:x64dbg/x64dbg.git . ; cd ..\\.. }\n",
      "if (Test-Path godotengine/godot) { cd godotengine\\godot; git pull; cd ..\\.. } else { mkdir godotengine/godot; cd godotengine/godot; git clone git@github.com:godotengine/godot.git . ; cd ..\\.. }\n",
      "if (Test-Path microsoft/PowerToys) { cd microsoft\\PowerToys; git pull; cd ..\\.. } else { mkdir microsoft/PowerToys; cd microsoft/PowerToys; git clone git@github.com:microsoft/PowerToys.git . ; cd ..\\.. }\n",
      "if (Test-Path BVLC/caffe) { cd BVLC\\caffe; git pull; cd ..\\.. } else { mkdir BVLC/caffe; cd BVLC/caffe; git clone git@github.com:BVLC/caffe.git . ; cd ..\\.. }\n",
      "if (Test-Path PowerShell/PowerShell) { cd PowerShell\\PowerShell; git pull; cd ..\\.. } else { mkdir PowerShell/PowerShell; cd PowerShell/PowerShell; git clone git@github.com:PowerShell/PowerShell.git . ; cd ..\\.. }\n",
      "if (Test-Path dotnet/aspnetcore) { cd dotnet\\aspnetcore; git pull; cd ..\\.. } else { mkdir dotnet/aspnetcore; cd dotnet/aspnetcore; git clone git@github.com:dotnet/aspnetcore.git . ; cd ..\\.. }\n",
      "if (Test-Path Wox-launcher/Wox) { cd Wox-launcher\\Wox; git pull; cd ..\\.. } else { mkdir Wox-launcher/Wox; cd Wox-launcher/Wox; git clone git@github.com:Wox-launcher/Wox.git . ; cd ..\\.. }\n",
      "if (Test-Path 0xd4d/dnSpy) { cd 0xd4d\\dnSpy; git pull; cd ..\\.. } else { mkdir 0xd4d/dnSpy; cd 0xd4d/dnSpy; git clone git@github.com:0xd4d/dnSpy.git . ; cd ..\\.. }\n",
      "if (Test-Path dotnet-architecture/eShopOnContainers) { cd dotnet-architecture\\eShopOnContainers; git pull; cd ..\\.. } else { mkdir dotnet-architecture/eShopOnContainers; cd dotnet-architecture/eShopOnContainers; git clone git@github.com:dotnet-architecture/eShopOnContainers.git . ; cd ..\\.. }\n",
      "if (Test-Path ShareX/ShareX) { cd ShareX\\ShareX; git pull; cd ..\\.. } else { mkdir ShareX/ShareX; cd ShareX/ShareX; git clone git@github.com:ShareX/ShareX.git . ; cd ..\\.. }\n",
      "if (Test-Path dotnet/roslyn) { cd dotnet\\roslyn; git pull; cd ..\\.. } else { mkdir dotnet/roslyn; cd dotnet/roslyn; git clone git@github.com:dotnet/roslyn.git . ; cd ..\\.. }\n",
      "if (Test-Path icsharpcode/ILSpy) { cd icsharpcode\\ILSpy; git pull; cd ..\\.. } else { mkdir icsharpcode/ILSpy; cd icsharpcode/ILSpy; git clone git@github.com:icsharpcode/ILSpy.git . ; cd ..\\.. }\n",
      "if (Test-Path dotnet/efcore) { cd dotnet\\efcore; git pull; cd ..\\.. } else { mkdir dotnet/efcore; cd dotnet/efcore; git clone git@github.com:dotnet/efcore.git . ; cd ..\\.. }\n",
      "if (Test-Path MaterialDesignInXAML/MaterialDesignInXamlToolkit) { cd MaterialDesignInXAML\\MaterialDesignInXamlToolkit; git pull; cd ..\\.. } else { mkdir MaterialDesignInXAML/MaterialDesignInXamlToolkit; cd MaterialDesignInXAML/MaterialDesignInXamlToolkit; git clone git@github.com:MaterialDesignInXAML/MaterialDesignInXamlToolkit.git . ; cd ..\\.. }\n",
      "if (Test-Path netdata/netdata) { cd netdata\\netdata; git pull; cd ..\\.. } else { mkdir netdata/netdata; cd netdata/netdata; git clone git@github.com:netdata/netdata.git . ; cd ..\\.. }\n",
      "if (Test-Path redis/redis) { cd redis\\redis; git pull; cd ..\\.. } else { mkdir redis/redis; cd redis/redis; git clone git@github.com:redis/redis.git . ; cd ..\\.. }\n",
      "if (Test-Path git/git) { cd git\\git; git pull; cd ..\\.. } else { mkdir git/git; cd git/git; git clone git@github.com:git/git.git . ; cd ..\\.. }\n",
      "if (Test-Path obsproject/obs-studio) { cd obsproject\\obs-studio; git pull; cd ..\\.. } else { mkdir obsproject/obs-studio; cd obsproject/obs-studio; git clone git@github.com:obsproject/obs-studio.git . ; cd ..\\.. }\n",
      "if (Test-Path ggreer/the_silver_searcher) { cd ggreer\\the_silver_searcher; git pull; cd ..\\.. } else { mkdir ggreer/the_silver_searcher; cd ggreer/the_silver_searcher; git clone git@github.com:ggreer/the_silver_searcher.git . ; cd ..\\.. }\n",
      "if (Test-Path tmux/tmux) { cd tmux\\tmux; git pull; cd ..\\.. } else { mkdir tmux/tmux; cd tmux/tmux; git clone git@github.com:tmux/tmux.git . ; cd ..\\.. }\n",
      "if (Test-Path curl/curl) { cd curl\\curl; git pull; cd ..\\.. } else { mkdir curl/curl; cd curl/curl; git clone git@github.com:curl/curl.git . ; cd ..\\.. }\n",
      "if (Test-Path libuv/libuv) { cd libuv\\libuv; git pull; cd ..\\.. } else { mkdir libuv/libuv; cd libuv/libuv; git clone git@github.com:libuv/libuv.git . ; cd ..\\.. }\n",
      "if (Test-Path numpy/numpy) { cd numpy\\numpy; git pull; cd ..\\.. } else { mkdir numpy/numpy; cd numpy/numpy; git clone git@github.com:numpy/numpy.git . ; cd ..\\.. }\n",
      "if (Test-Path openssl/openssl) { cd openssl\\openssl; git pull; cd ..\\.. } else { mkdir openssl/openssl; cd openssl/openssl; git clone git@github.com:openssl/openssl.git . ; cd ..\\.. }\n",
      "if (Test-Path rails/rails) { cd rails\\rails; git pull; cd ..\\.. } else { mkdir rails/rails; cd rails/rails; git clone git@github.com:rails/rails.git . ; cd ..\\.. }\n",
      "if (Test-Path jekyll/jekyll) { cd jekyll\\jekyll; git pull; cd ..\\.. } else { mkdir jekyll/jekyll; cd jekyll/jekyll; git clone git@github.com:jekyll/jekyll.git . ; cd ..\\.. }\n",
      "if (Test-Path discourse/discourse) { cd discourse\\discourse; git pull; cd ..\\.. } else { mkdir discourse/discourse; cd discourse/discourse; git clone git@github.com:discourse/discourse.git . ; cd ..\\.. }\n",
      "if (Test-Path fastlane/fastlane) { cd fastlane\\fastlane; git pull; cd ..\\.. } else { mkdir fastlane/fastlane; cd fastlane/fastlane; git clone git@github.com:fastlane/fastlane.git . ; cd ..\\.. }\n",
      "if (Test-Path huginn/huginn) { cd huginn\\huginn; git pull; cd ..\\.. } else { mkdir huginn/huginn; cd huginn/huginn; git clone git@github.com:huginn/huginn.git . ; cd ..\\.. }\n",
      "if (Test-Path Homebrew/brew) { cd Homebrew\\brew; git pull; cd ..\\.. } else { mkdir Homebrew/brew; cd Homebrew/brew; git clone git@github.com:Homebrew/brew.git . ; cd ..\\.. }\n",
      "if (Test-Path tootsuite/mastodon) { cd tootsuite\\mastodon; git pull; cd ..\\.. } else { mkdir tootsuite/mastodon; cd tootsuite/mastodon; git clone git@github.com:tootsuite/mastodon.git . ; cd ..\\.. }\n",
      "if (Test-Path rapid7/metasploit-framework) { cd rapid7\\metasploit-framework; git pull; cd ..\\.. } else { mkdir rapid7/metasploit-framework; cd rapid7/metasploit-framework; git clone git@github.com:rapid7/metasploit-framework.git . ; cd ..\\.. }\n",
      "if (Test-Path heartcombo/devise) { cd heartcombo\\devise; git pull; cd ..\\.. } else { mkdir heartcombo/devise; cd heartcombo/devise; git clone git@github.com:heartcombo/devise.git . ; cd ..\\.. }\n",
      "if (Test-Path forem/forem) { cd forem\\forem; git pull; cd ..\\.. } else { mkdir forem/forem; cd forem/forem; git clone git@github.com:forem/forem.git . ; cd ..\\.. }\n",
      "if (Test-Path golang/go) { cd golang\\go; git pull; cd ..\\.. } else { mkdir golang/go; cd golang/go; git clone git@github.com:golang/go.git . ; cd ..\\.. }\n",
      "if (Test-Path moby/moby) { cd moby\\moby; git pull; cd ..\\.. } else { mkdir moby/moby; cd moby/moby; git clone git@github.com:moby/moby.git . ; cd ..\\.. }\n",
      "if (Test-Path gohugoio/hugo) { cd gohugoio\\hugo; git pull; cd ..\\.. } else { mkdir gohugoio/hugo; cd gohugoio/hugo; git clone git@github.com:gohugoio/hugo.git . ; cd ..\\.. }\n",
      "if (Test-Path gogs/gogs) { cd gogs\\gogs; git pull; cd ..\\.. } else { mkdir gogs/gogs; cd gogs/gogs; git clone git@github.com:gogs/gogs.git . ; cd ..\\.. }\n",
      "if (Test-Path v2ray/v2ray-core) { cd v2ray\\v2ray-core; git pull; cd ..\\.. } else { mkdir v2ray/v2ray-core; cd v2ray/v2ray-core; git clone git@github.com:v2ray/v2ray-core.git . ; cd ..\\.. }\n",
      "if (Test-Path syncthing/syncthing) { cd syncthing\\syncthing; git pull; cd ..\\.. } else { mkdir syncthing/syncthing; cd syncthing/syncthing; git clone git@github.com:syncthing/syncthing.git . ; cd ..\\.. }\n",
      "if (Test-Path etcd-io/etcd) { cd etcd-io\\etcd; git pull; cd ..\\.. } else { mkdir etcd-io/etcd; cd etcd-io/etcd; git clone git@github.com:etcd-io/etcd.git . ; cd ..\\.. }\n",
      "if (Test-Path prometheus/prometheus) { cd prometheus\\prometheus; git pull; cd ..\\.. } else { mkdir prometheus/prometheus; cd prometheus/prometheus; git clone git@github.com:prometheus/prometheus.git . ; cd ..\\.. }\n",
      "if (Test-Path containous/traefik) { cd containous\\traefik; git pull; cd ..\\.. } else { mkdir containous/traefik; cd containous/traefik; git clone git@github.com:containous/traefik.git . ; cd ..\\.. }\n",
      "if (Test-Path ethereum/go-ethereum) { cd ethereum\\go-ethereum; git pull; cd ..\\.. } else { mkdir ethereum/go-ethereum; cd ethereum/go-ethereum; git clone git@github.com:ethereum/go-ethereum.git . ; cd ..\\.. }\n"
     ]
    }
   ],
   "source": [
    "for project in projects.itertuples():\n",
    "    name = project.name.replace(\"/\",\"\\\\\")\n",
    "    print(f'if (Test-Path {project.name}) {{ cd {name}; git pull; cd ..\\.. }} else {{ mkdir {project.name}; cd {project.name}; git clone git@github.com:{project.name}.git . ; cd ..\\.. }}') \n"
   ]
  },
  {
   "cell_type": "code",
   "execution_count": 5,
   "metadata": {},
   "outputs": [
    {
     "data": {
      "text/plain": [
       "<AxesSubplot:>"
      ]
     },
     "execution_count": 5,
     "metadata": {},
     "output_type": "execute_result"
    },
    {
     "data": {
      "image/png": "[encoded data removed]",
      "text/plain": [
       "<Figure size 432x288 with 1 Axes>"
      ]
     },
     "metadata": {
      "needs_background": "light"
     },
     "output_type": "display_data"
    }
   ],
   "source": [
    "projects.boxplot()"
   ]
  }
 ],
 "metadata": {
  "julynter-cellgroup-absolute-path-collapsed": true,
  "julynter-cellgroup-confuse-notebook-collapsed": true,
  "julynter-cellgroup-hidden-state-collapsed": false,
  "julynter-cellgroup-invalid-title-collapsed": true,
  "julynter-check-mode": "cell",
  "julynter-check-type-absolutepath": true,
  "julynter-check-type-invalidtitle": true,
  "kernelspec": {
   "display_name": "Python 3",
   "language": "python",
   "name": "python3"
  },
  "language_info": {
   "codemirror_mode": {
    "name": "ipython",
    "version": 3
   },
   "file_extension": ".py",
   "mimetype": "text/x-python",
   "name": "python",
   "nbconvert_exporter": "python",
   "pygments_lexer": "ipython3",
   "version": "3.8.4"
  }
 },
 "nbformat": 4,
 "nbformat_minor": 4
}
