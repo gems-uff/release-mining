{
 "cells": [
  {
   "cell_type": "code",
   "execution_count": 7,
   "metadata": {},
   "outputs": [],
   "source": [
    "import pandas as pd\n",
    "import numpy as np\n",
    "import matplotlib.pyplot as plt\n",
    "from scipy import stats\n",
    "import re"
   ]
  },
  {
   "cell_type": "code",
   "execution_count": 8,
   "metadata": {},
   "outputs": [],
   "source": [
    "pd.options.display.max_rows = 500"
   ]
  },
  {
   "cell_type": "code",
   "execution_count": 9,
   "metadata": {},
   "outputs": [],
   "source": [
    "import os\n",
    "import sys\n",
    "\n",
    "releasy_module = os.path.abspath(os.path.join('..','..','..','dev','releasy2'))\n",
    "if releasy_module not in sys.path:\n",
    "    sys.path.insert(0, releasy_module)\n",
    "    \n",
    "import releasy\n",
    "from releasy.miner_git import GitVcs\n",
    "from releasy.miner import TagReleaseMiner, PathCommitMiner, RangeCommitMiner, TimeCommitMiner, VersionReleaseMatcher, VersionReleaseSorter, TimeReleaseSorter, VersionWoPreReleaseMatcher\n"
   ]
  },
  {
   "cell_type": "code",
   "execution_count": 10,
   "metadata": {},
   "outputs": [],
   "source": [
    "projects = pd.read_pickle('projects.zip')"
   ]
  },
  {
   "cell_type": "code",
   "execution_count": 11,
   "metadata": {},
   "outputs": [],
   "source": [
    "exception = [\n",
    "    \"nodejs/node\" ,    # one release mislabeled\n",
    "    \"mrdoob/three.js\", # use \"r\" prefix\n",
    "    \"aria2/aria2\",     # use \"release\" prefix\n",
    "    \"square/okhttp\",   # use \"parent\" prefix\n",
    "    \"apache/dubbo\",    # use \"dubbo\" prefix\n",
    "    \"dotnet/efcore\",   # use multiple release prefix (release, rel, v)\n",
    "    \"aspnetboilerplate/aspnetboilerplate\", # one release with dot\n",
    "    \"taosdata/TDengine\", # user \"ver\" prefix\n",
    "    \"nginx/nginx\",     # use \"release\" prefix\n",
    "]\n",
    "#exception = []\n",
    "\n",
    "i = 0\n",
    "for project in projects.itertuples():\n",
    "    path = os.path.abspath(os.path.join('..','..','..','repos2',project.name))\n",
    "    \n",
    "    try:\n",
    "        if project.name in exception:\n",
    "            continue\n",
    "        \n",
    "        vcs = GitVcs(path)\n",
    "        release_matcher = VersionWoPreReleaseMatcher()\n",
    "        time_release_sorter = TimeReleaseSorter()\n",
    "        release_miner = TagReleaseMiner(vcs, release_matcher, time_release_sorter)\n",
    "        \n",
    "        release_set = release_miner.mine_releases()\n",
    "        monorepo = False\n",
    "        for prefix in release_set.prefixes:\n",
    "            if prefix != None and prefix != \"v\":\n",
    "                monorepo = True\n",
    "            \n",
    "        if monorepo:\n",
    "            print(f\"{i+1:<2}: {project.name} - {project.lang}\")\n",
    "            for prefix in release_set.prefixes:\n",
    "                freq = release_set.prefixes.count(prefix)\n",
    "                print(f\" - {freq:3} {prefix}\")\n",
    "            i+=1\n",
    "        \n",
    "    except Exception as e:\n",
    "        print(f\" - error: {e}\")\n"
   ]
  },
  {
   "cell_type": "code",
   "execution_count": 13,
   "metadata": {},
   "outputs": [],
   "source": [
    "suffix_exception_catalog = {\n",
    "    \"spring-projects/spring-boot\": \".RELEASE\",\n",
    "    \"spring-projects/spring-framework\": \".RELEASE\",\n",
    "    \"netty/netty\": \".Final\",\n",
    "    \"godotengine/godot\": \"-stable\",\n",
    "}\n",
    "for project in projects.itertuples():\n",
    "    path = os.path.abspath(os.path.join('..','..','..','repos2',project.name))\n",
    "    \n",
    "    try:\n",
    "        vcs = GitVcs(path)\n",
    "        if project.name in suffix_exception_catalog:\n",
    "            suffix_exception = suffix_exception_catalog[project.name]\n",
    "        else:\n",
    "            suffix_exception = None\n",
    "        release_matcher_wopre = VersionWoPreReleaseMatcher(suffix_exception=suffix_exception)\n",
    "        release_matcher = VersionReleaseMatcher()\n",
    "        time_release_sorter = TimeReleaseSorter()\n",
    "        release_miner_wopre = TagReleaseMiner(vcs, release_matcher_wopre, time_release_sorter)\n",
    "        release_miner = TagReleaseMiner(vcs, release_matcher, time_release_sorter)\n",
    "        \n",
    "        release_set_wopre = release_miner_wopre.mine_releases()\n",
    "        release_set = release_miner.mine_releases()\n",
    "        if len(release_set_wopre) < 10:\n",
    "            print(f\"{len(release_set_wopre):4}:{len(release_set):4} {project.name} - {project.lang}\")\n",
    "            for suffix in release_set.suffixes:\n",
    "                freq = release_set.suffixes.count(suffix)\n",
    "                print(f\" - {freq:3} {suffix}\")\n",
    "    except Exception as e:\n",
    "        print(f\" - error: {e}\")\n",
    "\n",
    "        "
   ]
  },
  {
   "cell_type": "code",
   "execution_count": null,
   "metadata": {},
   "outputs": [],
   "source": []
  },
  {
   "cell_type": "code",
   "execution_count": null,
   "metadata": {},
   "outputs": [],
   "source": []
  }
 ],
 "metadata": {
  "kernelspec": {
   "display_name": "Python 3",
   "language": "python",
   "name": "python3"
  },
  "language_info": {
   "codemirror_mode": {
    "name": "ipython",
    "version": 3
   },
   "file_extension": ".py",
   "mimetype": "text/x-python",
   "name": "python",
   "nbconvert_exporter": "python",
   "pygments_lexer": "ipython3",
   "version": "3.8.4"
  }
 },
 "nbformat": 4,
 "nbformat_minor": 4
}
