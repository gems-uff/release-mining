{
 "cells": [
  {
   "cell_type": "code",
   "execution_count": 1,
   "metadata": {},
   "outputs": [],
   "source": [
    "import pandas as pd\n",
    "import numpy as np\n",
    "import matplotlib.pyplot as plt\n",
    "from scipy import stats\n",
    "import re"
   ]
  },
  {
   "cell_type": "code",
   "execution_count": 2,
   "metadata": {},
   "outputs": [],
   "source": [
    "pd.options.display.max_rows = 500"
   ]
  },
  {
   "cell_type": "code",
   "execution_count": 3,
   "metadata": {},
   "outputs": [],
   "source": [
    "import os\n",
    "import sys\n",
    "\n",
    "releasy_module = os.path.abspath(os.path.join('..','..','..','dev','releasy2'))\n",
    "if releasy_module not in sys.path:\n",
    "    sys.path.insert(0, releasy_module)\n",
    "    \n",
    "import releasy\n",
    "from releasy.miner_git import GitVcs\n",
    "from releasy.miner import TagReleaseMiner, PathCommitMiner, RangeCommitMiner, TimeCommitMiner, VersionReleaseMatcher, VersionReleaseSorter, TimeReleaseSorter, VersionWoPreReleaseMatcher\n"
   ]
  },
  {
   "cell_type": "code",
   "execution_count": 4,
   "metadata": {},
   "outputs": [],
   "source": [
    "projects = pd.read_pickle('projects.zip')"
   ]
  },
  {
   "cell_type": "code",
   "execution_count": 5,
   "metadata": {},
   "outputs": [],
   "source": [
    "exception = [\n",
    "    \"nodejs/node\" ,    # one release mislabeled\n",
    "    \"mrdoob/three.js\", # use \"r\" prefix\n",
    "    \"aria2/aria2\",     # use \"release\" prefix\n",
    "    \"square/okhttp\",   # use \"parent\" prefix\n",
    "    \"apache/dubbo\",    # use \"dubbo\" prefix\n",
    "    \"dotnet/efcore\",   # use multiple release prefix (release, rel, v)\n",
    "    \"aspnetboilerplate/aspnetboilerplate\", # one release with dot\n",
    "    \"taosdata/TDengine\", # user \"ver\" prefix\n",
    "    \"nginx/nginx\",     # use \"release\" prefix\n",
    "]\n",
    "#exception = []\n",
    "\n",
    "i = 0\n",
    "for project in projects.itertuples():\n",
    "    path = os.path.abspath(os.path.join('..','..','..','repos2',project.name))\n",
    "    \n",
    "    try:\n",
    "        if project.name in exception:\n",
    "            continue\n",
    "        \n",
    "        vcs = GitVcs(path)\n",
    "        release_matcher = VersionWoPreReleaseMatcher()\n",
    "        time_release_sorter = TimeReleaseSorter()\n",
    "        release_miner = TagReleaseMiner(vcs, release_matcher, time_release_sorter)\n",
    "        \n",
    "        release_set = release_miner.mine_releases()\n",
    "        monorepo = False\n",
    "        for prefix in release_set.prefixes:\n",
    "            if prefix != None and prefix != \"v\":\n",
    "                monorepo = True\n",
    "            \n",
    "        if monorepo:\n",
    "            print(f\"{i+1:<2}: {project.name} - {project.lang}\")\n",
    "            for prefix in release_set.prefixes:\n",
    "                freq = release_set.prefixes.count(prefix)\n",
    "                print(f\" - {freq:3} {prefix}\")\n",
    "            i+=1\n",
    "        \n",
    "    except Exception as e:\n",
    "        print(f\" - error: {e}\")\n"
   ]
  },
  {
   "cell_type": "code",
   "execution_count": null,
   "metadata": {},
   "outputs": [
    {
     "name": "stdout",
     "output_type": "stream",
     "text": [
      "   0: 162 spring-projects/spring-boot - java\n",
      " -   4 .M5\n",
      " -   1 .RC3\n",
      " - 105 .RELEASE\n",
      " -   3 .M6\n",
      " -   2 .M7\n",
      " -   9 .M1\n",
      " -   1 .RC5\n",
      " -   6 .M4\n",
      " -   1 -M1\n",
      " -   7 .M3\n",
      " -   9 .M2\n",
      " -   3 .RC2\n",
      " -  10 .RC1\n",
      " -   1 .RC4\n",
      "   0: 185 spring-projects/spring-framework - java\n",
      " -   1 .M5\n",
      " -   4 .RC3\n",
      " - 137 .RELEASE\n",
      " -   1 .RC2-A\n",
      " -   6 .M1\n",
      " -   2 .M4\n",
      " -   1 .RELEASE-A\n",
      " -   1 -M1\n",
      " -   1 .RELEASE.A\n",
      " -   4 .M3\n",
      " -   6 .M2\n",
      " -  10 .RC2\n",
      " -  10 .RC1\n",
      " -   1 .RC4\n",
      "   0: 218 netty/netty - java\n",
      " -   2 .CR2\n",
      " -   1 .Beta4\n",
      " -   1 .Beta6\n",
      " -   1 .Alpha8\n",
      " -   6 .Beta1\n",
      " -   2 .CR5\n",
      " -   1 .Beta7\n",
      " -   1 .CR9\n",
      " -   1 .Alpha7\n",
      " -   3 .Alpha2\n",
      " -   1 .Alpha6\n",
      " -   2 .Beta2\n",
      " -   2 .CR3\n",
      " -   2 .CR6\n",
      " -   1 .CR8\n",
      " -   2 .CR1\n",
      " -   1 .Alpha5\n",
      " -   2 .Beta3\n",
      " -   2 .CR7\n",
      " -   1 .Alpha4\n",
      " -   3 .Alpha1\n",
      " -   1 .Alpha3\n",
      " - 175 .Final\n",
      " -   1 .Beta8\n",
      " -   1 .Beta5\n",
      " -   2 .CR4\n"
     ]
    }
   ],
   "source": [
    "for project in projects.itertuples():\n",
    "    path = os.path.abspath(os.path.join('..','..','..','repos2',project.name))\n",
    "    \n",
    "    try:\n",
    "        vcs = GitVcs(path)\n",
    "        release_matcher_wopre = VersionWoPreReleaseMatcher()\n",
    "        release_matcher = VersionReleaseMatcher()\n",
    "        time_release_sorter = TimeReleaseSorter()\n",
    "        release_miner_wopre = TagReleaseMiner(vcs, release_matcher_wopre, time_release_sorter)\n",
    "        release_miner = TagReleaseMiner(vcs, release_matcher, time_release_sorter)\n",
    "        \n",
    "        release_set_wopre = release_miner_wopre.mine_releases()\n",
    "        release_set = release_miner.mine_releases()\n",
    "        if len(release_set_wopre) < 10:\n",
    "            print(f\"{len(release_set_wopre):4}:{len(release_set):4} {project.name} - {project.lang}\")\n",
    "            for suffix in release_set.suffixes:\n",
    "                freq = release_set.suffixes.count(suffix)\n",
    "                print(f\" - {freq:3} {suffix}\")\n",
    "    except Exception as e:\n",
    "        print(f\" - error: {e}\")\n",
    "\n",
    "        "
   ]
  },
  {
   "cell_type": "code",
   "execution_count": null,
   "metadata": {},
   "outputs": [],
   "source": []
  },
  {
   "cell_type": "code",
   "execution_count": null,
   "metadata": {},
   "outputs": [],
   "source": []
  }
 ],
 "metadata": {
  "kernelspec": {
   "display_name": "Python 3",
   "language": "python",
   "name": "python3"
  },
  "language_info": {
   "codemirror_mode": {
    "name": "ipython",
    "version": 3
   },
   "file_extension": ".py",
   "mimetype": "text/x-python",
   "name": "python",
   "nbconvert_exporter": "python",
   "pygments_lexer": "ipython3",
   "version": "3.8.4"
  }
 },
 "nbformat": 4,
 "nbformat_minor": 4
}
