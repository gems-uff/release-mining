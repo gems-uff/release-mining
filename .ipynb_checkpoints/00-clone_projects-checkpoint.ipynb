{
 "cells": [
  {
   "cell_type": "code",
   "execution_count": 4,
   "metadata": {},
   "outputs": [],
   "source": [
    "import pandas as pd\n",
    "\n",
    "import os"
   ]
  },
  {
   "cell_type": "code",
   "execution_count": 5,
   "metadata": {},
   "outputs": [],
   "source": [
    "projects = pd.read_pickle('projects.zip')"
   ]
  },
  {
   "cell_type": "markdown",
   "metadata": {},
   "source": [
    "# Clone Projects"
   ]
  },
  {
   "cell_type": "code",
   "execution_count": 31,
   "metadata": {},
   "outputs": [],
   "source": [
    "for i,project in enumerate(projects.itertuples()):\n",
    "    project_path = os.path.abspath(os.path.join('..','..','..','repos2',project.name))\n",
    "    git_path = os.path.abspath(os.path.join(project_path,'.git'))\n",
    "    if not os.path.exists(git_path):\n",
    "        print(f\"mkdir -p {project.name}; git clone git://github.com/{project.name} {project.name}\")"
   ]
  },
  {
   "cell_type": "markdown",
   "metadata": {},
   "source": [
    "# Update Projects"
   ]
  },
  {
   "cell_type": "code",
   "execution_count": 32,
   "metadata": {},
   "outputs": [
    {
     "name": "stdout",
     "output_type": "stream",
     "text": [
      "cd C:\\Users\\felipecrp\\Research\\Release\\repos2\\vuejs\\vue; git pull;\n",
      "cd C:\\Users\\felipecrp\\Research\\Release\\repos2\\facebook\\react; git pull;\n",
      "cd C:\\Users\\felipecrp\\Research\\Release\\repos2\\twbs\\bootstrap; git pull;\n",
      "cd C:\\Users\\felipecrp\\Research\\Release\\repos2\\d3\\d3; git pull;\n",
      "cd C:\\Users\\felipecrp\\Research\\Release\\repos2\\facebook\\react-native; git pull;\n",
      "cd C:\\Users\\felipecrp\\Research\\Release\\repos2\\facebook\\create-react-app; git pull;\n",
      "cd C:\\Users\\felipecrp\\Research\\Release\\repos2\\nodejs\\node; git pull;\n",
      "cd C:\\Users\\felipecrp\\Research\\Release\\repos2\\mrdoob\\three.js; git pull;\n",
      "cd C:\\Users\\felipecrp\\Research\\Release\\repos2\\mui-org\\material-ui; git pull;\n",
      "cd C:\\Users\\felipecrp\\Research\\Release\\repos2\\angular\\angular.js; git pull;\n",
      "cd C:\\Users\\felipecrp\\Research\\Release\\repos2\\microsoft\\vscode; git pull;\n",
      "cd C:\\Users\\felipecrp\\Research\\Release\\repos2\\denoland\\deno; git pull;\n",
      "cd C:\\Users\\felipecrp\\Research\\Release\\repos2\\angular\\angular; git pull;\n",
      "cd C:\\Users\\felipecrp\\Research\\Release\\repos2\\microsoft\\TypeScript; git pull;\n",
      "cd C:\\Users\\felipecrp\\Research\\Release\\repos2\\ant-design\\ant-design; git pull;\n",
      "cd C:\\Users\\felipecrp\\Research\\Release\\repos2\\reduxjs\\redux; git pull;\n",
      "cd C:\\Users\\felipecrp\\Research\\Release\\repos2\\storybookjs\\storybook; git pull;\n",
      "cd C:\\Users\\felipecrp\\Research\\Release\\repos2\\ionic-team\\ionic-framework; git pull;\n",
      "cd C:\\Users\\felipecrp\\Research\\Release\\repos2\\grafana\\grafana; git pull;\n",
      "cd C:\\Users\\felipecrp\\Research\\Release\\repos2\\facebook\\jest; git pull;\n",
      "cd C:\\Users\\felipecrp\\Research\\Release\\repos2\\elastic\\elasticsearch; git pull;\n",
      "cd C:\\Users\\felipecrp\\Research\\Release\\repos2\\spring-projects\\spring-boot; git pull;\n",
      "cd C:\\Users\\felipecrp\\Research\\Release\\repos2\\ReactiveX\\RxJava; git pull;\n",
      "cd C:\\Users\\felipecrp\\Research\\Release\\repos2\\spring-projects\\spring-framework; git pull;\n",
      "cd C:\\Users\\felipecrp\\Research\\Release\\repos2\\google\\guava; git pull;\n",
      "cd C:\\Users\\felipecrp\\Research\\Release\\repos2\\square\\okhttp; git pull;\n",
      "cd C:\\Users\\felipecrp\\Research\\Release\\repos2\\apache\\dubbo; git pull;\n",
      "cd C:\\Users\\felipecrp\\Research\\Release\\repos2\\PhilJay\\MPAndroidChart; git pull;\n",
      "cd C:\\Users\\felipecrp\\Research\\Release\\repos2\\bumptech\\glide; git pull;\n",
      "cd C:\\Users\\felipecrp\\Research\\Release\\repos2\\zxing\\zxing; git pull;\n",
      "cd C:\\Users\\felipecrp\\Research\\Release\\repos2\\ytdl-org\\youtube-dl; git pull;\n",
      "cd C:\\Users\\felipecrp\\Research\\Release\\repos2\\pallets\\flask; git pull;\n",
      "cd C:\\Users\\felipecrp\\Research\\Release\\repos2\\django\\django; git pull;\n",
      "cd C:\\Users\\felipecrp\\Research\\Release\\repos2\\keras-team\\keras; git pull;\n",
      "cd C:\\Users\\felipecrp\\Research\\Release\\repos2\\ansible\\ansible; git pull;\n",
      "cd C:\\Users\\felipecrp\\Research\\Release\\repos2\\psf\\requests; git pull;\n",
      "cd C:\\Users\\felipecrp\\Research\\Release\\repos2\\scikit-learn\\scikit-learn; git pull;\n",
      "cd C:\\Users\\felipecrp\\Research\\Release\\repos2\\scrapy\\scrapy; git pull;\n",
      "cd C:\\Users\\felipecrp\\Research\\Release\\repos2\\home-assistant\\core; git pull;\n",
      "cd C:\\Users\\felipecrp\\Research\\Release\\repos2\\soimort\\you-get; git pull;\n",
      "cd C:\\Users\\felipecrp\\Research\\Release\\repos2\\laravel\\laravel; git pull;\n",
      "cd C:\\Users\\felipecrp\\Research\\Release\\repos2\\fzaninotto\\Faker; git pull;\n",
      "cd C:\\Users\\felipecrp\\Research\\Release\\repos2\\symfony\\symfony; git pull;\n",
      "cd C:\\Users\\felipecrp\\Research\\Release\\repos2\\composer\\composer; git pull;\n",
      "cd C:\\Users\\felipecrp\\Research\\Release\\repos2\\laravel\\framework; git pull;\n",
      "cd C:\\Users\\felipecrp\\Research\\Release\\repos2\\guzzle\\guzzle; git pull;\n",
      "cd C:\\Users\\felipecrp\\Research\\Release\\repos2\\bcit-ci\\CodeIgniter; git pull;\n",
      "cd C:\\Users\\felipecrp\\Research\\Release\\repos2\\Seldaek\\monolog; git pull;\n",
      "cd C:\\Users\\felipecrp\\Research\\Release\\repos2\\sebastianbergmann\\phpunit; git pull;\n",
      "cd C:\\Users\\felipecrp\\Research\\Release\\repos2\\briannesbitt\\Carbon; git pull;\n",
      "cd C:\\Users\\felipecrp\\Research\\Release\\repos2\\electron\\electron; git pull;\n",
      "cd C:\\Users\\felipecrp\\Research\\Release\\repos2\\opencv\\opencv; git pull;\n",
      "cd C:\\Users\\felipecrp\\Research\\Release\\repos2\\bitcoin\\bitcoin; git pull;\n",
      "cd C:\\Users\\felipecrp\\Research\\Release\\repos2\\protocolbuffers\\protobuf; git pull;\n",
      "cd C:\\Users\\felipecrp\\Research\\Release\\repos2\\pytorch\\pytorch; git pull;\n",
      "cd C:\\Users\\felipecrp\\Research\\Release\\repos2\\tesseract-ocr\\tesseract; git pull;\n",
      "cd C:\\Users\\felipecrp\\Research\\Release\\repos2\\x64dbg\\x64dbg; git pull;\n",
      "cd C:\\Users\\felipecrp\\Research\\Release\\repos2\\godotengine\\godot; git pull;\n",
      "cd C:\\Users\\felipecrp\\Research\\Release\\repos2\\microsoft\\PowerToys; git pull;\n",
      "cd C:\\Users\\felipecrp\\Research\\Release\\repos2\\BVLC\\caffe; git pull;\n",
      "cd C:\\Users\\felipecrp\\Research\\Release\\repos2\\PowerShell\\PowerShell; git pull;\n",
      "cd C:\\Users\\felipecrp\\Research\\Release\\repos2\\dotnet\\aspnetcore; git pull;\n",
      "cd C:\\Users\\felipecrp\\Research\\Release\\repos2\\Wox-launcher\\Wox; git pull;\n",
      "cd C:\\Users\\felipecrp\\Research\\Release\\repos2\\0xd4d\\dnSpy; git pull;\n",
      "cd C:\\Users\\felipecrp\\Research\\Release\\repos2\\dotnet-architecture\\eShopOnContainers; git pull;\n",
      "cd C:\\Users\\felipecrp\\Research\\Release\\repos2\\ShareX\\ShareX; git pull;\n",
      "cd C:\\Users\\felipecrp\\Research\\Release\\repos2\\dotnet\\roslyn; git pull;\n",
      "cd C:\\Users\\felipecrp\\Research\\Release\\repos2\\icsharpcode\\ILSpy; git pull;\n",
      "cd C:\\Users\\felipecrp\\Research\\Release\\repos2\\dotnet\\efcore; git pull;\n",
      "cd C:\\Users\\felipecrp\\Research\\Release\\repos2\\MaterialDesignInXAML\\MaterialDesignInXamlToolkit; git pull;\n",
      "cd C:\\Users\\felipecrp\\Research\\Release\\repos2\\netdata\\netdata; git pull;\n",
      "cd C:\\Users\\felipecrp\\Research\\Release\\repos2\\redis\\redis; git pull;\n",
      "cd C:\\Users\\felipecrp\\Research\\Release\\repos2\\git\\git; git pull;\n",
      "cd C:\\Users\\felipecrp\\Research\\Release\\repos2\\obsproject\\obs-studio; git pull;\n",
      "cd C:\\Users\\felipecrp\\Research\\Release\\repos2\\ggreer\\the_silver_searcher; git pull;\n",
      "cd C:\\Users\\felipecrp\\Research\\Release\\repos2\\tmux\\tmux; git pull;\n",
      "cd C:\\Users\\felipecrp\\Research\\Release\\repos2\\curl\\curl; git pull;\n",
      "cd C:\\Users\\felipecrp\\Research\\Release\\repos2\\libuv\\libuv; git pull;\n",
      "cd C:\\Users\\felipecrp\\Research\\Release\\repos2\\numpy\\numpy; git pull;\n",
      "cd C:\\Users\\felipecrp\\Research\\Release\\repos2\\openssl\\openssl; git pull;\n",
      "cd C:\\Users\\felipecrp\\Research\\Release\\repos2\\rails\\rails; git pull;\n",
      "cd C:\\Users\\felipecrp\\Research\\Release\\repos2\\jekyll\\jekyll; git pull;\n",
      "cd C:\\Users\\felipecrp\\Research\\Release\\repos2\\discourse\\discourse; git pull;\n",
      "cd C:\\Users\\felipecrp\\Research\\Release\\repos2\\fastlane\\fastlane; git pull;\n",
      "cd C:\\Users\\felipecrp\\Research\\Release\\repos2\\huginn\\huginn; git pull;\n",
      "cd C:\\Users\\felipecrp\\Research\\Release\\repos2\\Homebrew\\brew; git pull;\n",
      "cd C:\\Users\\felipecrp\\Research\\Release\\repos2\\tootsuite\\mastodon; git pull;\n",
      "cd C:\\Users\\felipecrp\\Research\\Release\\repos2\\rapid7\\metasploit-framework; git pull;\n",
      "cd C:\\Users\\felipecrp\\Research\\Release\\repos2\\heartcombo\\devise; git pull;\n",
      "cd C:\\Users\\felipecrp\\Research\\Release\\repos2\\hashicorp\\vagrant; git pull;\n",
      "cd C:\\Users\\felipecrp\\Research\\Release\\repos2\\golang\\go; git pull;\n",
      "cd C:\\Users\\felipecrp\\Research\\Release\\repos2\\moby\\moby; git pull;\n",
      "cd C:\\Users\\felipecrp\\Research\\Release\\repos2\\gohugoio\\hugo; git pull;\n",
      "cd C:\\Users\\felipecrp\\Research\\Release\\repos2\\gogs\\gogs; git pull;\n",
      "cd C:\\Users\\felipecrp\\Research\\Release\\repos2\\v2ray\\v2ray-core; git pull;\n",
      "cd C:\\Users\\felipecrp\\Research\\Release\\repos2\\syncthing\\syncthing; git pull;\n",
      "cd C:\\Users\\felipecrp\\Research\\Release\\repos2\\etcd-io\\etcd; git pull;\n",
      "cd C:\\Users\\felipecrp\\Research\\Release\\repos2\\prometheus\\prometheus; git pull;\n",
      "cd C:\\Users\\felipecrp\\Research\\Release\\repos2\\containous\\traefik; git pull;\n",
      "cd C:\\Users\\felipecrp\\Research\\Release\\repos2\\ethereum\\go-ethereum; git pull;\n"
     ]
    }
   ],
   "source": [
    "for i,project in enumerate(projects.itertuples()):\n",
    "    project_path = os.path.abspath(os.path.join('..','..','..','repos2',project.name))\n",
    "    git_path = os.path.abspath(os.path.join(project_path,'.git'))\n",
    "    if os.path.exists(git_path):\n",
    "        print(f\"cd {project_path}; git pull;\")"
   ]
  }
 ],
 "metadata": {
  "kernelspec": {
   "display_name": "Python 3",
   "language": "python",
   "name": "python3"
  },
  "language_info": {
   "codemirror_mode": {
    "name": "ipython",
    "version": 3
   },
   "file_extension": ".py",
   "mimetype": "text/x-python",
   "name": "python",
   "nbconvert_exporter": "python",
   "pygments_lexer": "ipython3",
   "version": "3.8.4"
  }
 },
 "nbformat": 4,
 "nbformat_minor": 4
}
