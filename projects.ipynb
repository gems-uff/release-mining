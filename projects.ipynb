{
 "cells": [
  {
   "cell_type": "markdown",
   "metadata": {},
   "source": [
    "# Select Project Corpus\n",
    "\n",
    "This notebook search github for projects that are suitable for this experiment"
   ]
  },
  {
   "cell_type": "markdown",
   "metadata": {},
   "source": [
    "Search github for projects"
   ]
  },
  {
   "cell_type": "code",
   "execution_count": 23,
   "metadata": {},
   "outputs": [],
   "source": [
    "from github import Github\n",
    "import pprint\n",
    "import json\n",
    "\n",
    "import pandas as pd\n",
    "import numpy as np\n",
    "import matplotlib.pyplot as plt\n",
    "import matplotlib"
   ]
  },
  {
   "cell_type": "markdown",
   "metadata": {},
   "source": [
    "# Parameters"
   ]
  },
  {
   "cell_type": "code",
   "execution_count": 24,
   "metadata": {},
   "outputs": [],
   "source": [
    "languages = [\n",
    "    \"javascript\",\n",
    "    \"typescript\",\n",
    "    \"java\",\n",
    "    \"python\",\n",
    "    \"php\",\n",
    "    \"c++\",\n",
    "    \"c#\",\n",
    "    #\"shell\",\n",
    "    \"c\",\n",
    "    \"ruby\",\n",
    "    \"go\"\n",
    "]\n",
    "\n",
    "num_projects_per_language = 20"
   ]
  },
  {
   "cell_type": "markdown",
   "metadata": {},
   "source": [
    "## Connect to github"
   ]
  },
  {
   "cell_type": "code",
   "execution_count": 25,
   "metadata": {},
   "outputs": [],
   "source": [
    "token=!cat token\n",
    "github = Github(token[0])"
   ]
  },
  {
   "cell_type": "markdown",
   "metadata": {},
   "source": [
    "## Search for repositories"
   ]
  },
  {
   "cell_type": "code",
   "execution_count": 26,
   "metadata": {},
   "outputs": [],
   "source": [
    "projects_data = []\n",
    "for lang in languages:\n",
    "    repos = github.search_repositories(query=f\"language:{lang}\", sort=\"stars\", order=\"desc\")\n",
    "    for i in range(num_projects_per_language):\n",
    "        repo = repos[i]\n",
    "        project_data = {}\n",
    "        project_data[\"name\"] = repo.full_name\n",
    "        project_data[\"description\"] = repo.description\n",
    "        project_data[\"stars\"] = repo.stargazers_count\n",
    "        project_data[\"url\"] = repo.url\n",
    "        project_data[\"git_url\"] = repo.git_url\n",
    "        project_data[\"language\"] = repo.language\n",
    "        project_data[\"created_at\"] = repo.created_at\n",
    "        project_data[\"ncreated_at\"] = repo.created_at\n",
    "        project_data[\"created_at\"] = repo.created_at\n",
    "        repo_tags = repo.get_tags()\n",
    "        project_data[\"num_tags\"] = repo_tags.totalCount\n",
    "        repo_releases = repo.get_releases()\n",
    "        project_data[\"num_releases\"] = repo_releases.totalCount\n",
    "        projects_data.append(project_data)\n"
   ]
  },
  {
   "cell_type": "code",
   "execution_count": 42,
   "metadata": {},
   "outputs": [],
   "source": [
    "projects = pd.DataFrame(projects_data)\n",
    "projects.set_index(keys=[\"name\"], inplace=True)\n",
    "projects[\"software_project\"] = True"
   ]
  },
  {
   "cell_type": "markdown",
   "metadata": {},
   "source": [
    "Exclude **nom software** projects"
   ]
  },
  {
   "cell_type": "code",
   "execution_count": 46,
   "metadata": {},
   "outputs": [],
   "source": [
    "projects.loc[\"bayandin/awesome-awesomeness\", \"software_project\"] = False\n",
    "projects.loc[\"tensorflow/models\", \"software_project\"] = False\n",
    "projects.loc[\"TheAlgorithms/Python\", \"software_project\"] = False\n",
    "projects.loc[\"vinta/awesome-python\", \"software_project\"] = False\n",
    "projects.loc[\"public-apis/public-apis\", \"software_project\"] = False\n",
    "projects.loc[\"donnemartin/system-design-primer\", \"software_project\"] = False\n",
    "projects.loc[\"danielmiessler/SecLists\", \"software_project\"] = False\n",
    "projects.loc[\"domnikl/DesignPatternsPHP\", \"software_project\"] = False\n",
    "projects.loc[\"laravel/framework\", \"software_project\"] = False\n",
    "projects.loc[\"airbnb/javascript\", \"software_project\"] = False\n",
    "projects.loc[\"kdn251/interviews\", \"software_project\"] = False\n",
    "projects.loc[\"MisterBooo/LeetCodeAnimation\", \"software_project\"] = False\n",
    "projects.loc[\"iluwatar/java-design-patterns\", \"software_project\"] = False\n",
    "projects.loc[\"Snailclimb/JavaGuide\", \"software_project\"] = False\n",
    "projects.loc[\"CyC2018/CS-Notes\", \"software_project\"] = False\n",
    "projects.loc[\"doocs/advanced-java\", \"software_project\"] = False\n",
    "projects.loc[\"avelino/awesome-go\", \"software_project\"] = False\n",
    "projects.loc[\"josephmisiti/awesome-machine-learning\", \"software_project\"] = False\n",
    "projects.loc[\"astaxie/build-web-application-with-golang\", \"software_project\"] = False\n",
    "projects.loc[\"SamyPesse/How-to-Make-a-Computer-Operating-System\", \"software_project\"] = False\n",
    "projects.loc[\"julycoding/The-Art-Of-Programming-By-July\", \"software_project\"] = False\n",
    "projects.loc[\"cfenollosa/os-tutorial\", \"software_project\"] = False\n",
    "projects.loc[\"trekhleb/javascript-algorithms\", \"software_project\"] = False\n",
    "\n",
    "\n",
    "# Projetos grandes\n",
    "projects.loc[\"torvalds/linux\", \"software_project\"] = False\n",
    "\n",
    "# Unkwnown projects\n",
    "projects.loc[\"Falsemacrozheng/mall\", \"software_project\"] = False # japanese\n",
    "projects.loc[\"macrozheng/mall\", \"software_project\"] = False # japanese\n"
   ]
  },
  {
   "cell_type": "markdown",
   "metadata": {},
   "source": [
    "Select top 10 star projects per language"
   ]
  },
  {
   "cell_type": "code",
   "execution_count": 47,
   "metadata": {
    "scrolled": true
   },
   "outputs": [
    {
     "name": "stdout",
     "output_type": "stream",
     "text": [
      "Language: C\n",
      " - netdata/netdata                44046.0 Real-time performance monitoring, done right! https://my-netdata.io/\n",
      " - antirez/redis                  40702.0 Redis is an in-memory database that persists on disk. The data model is key-value, but many different kind of values are supported: Strings, Lists, Sets, Sorted Sets, Hashes, Streams, HyperLogLogs, Bitmaps.\n",
      " - git/git                        30978.0 Git Source Code Mirror - This is a publish-only repository and all pull requests are ignored. Please follow Documentation/SubmittingPatches procedure for any of your improvements.\n",
      " - php/php-src                    26186.0 The PHP Interpreter\n",
      " - bilibili/ijkplayer             25585.0 Android/iOS video player based on FFmpeg n3.4, with MediaCodec, VideoToolbox support.\n",
      " - Genymobile/scrcpy              24354.0 Display and control your Android device\n",
      " - wg/wrk                         23065.0 Modern HTTP benchmarking tool\n",
      " - ggreer/the_silver_searcher     19311.0 A code-searching tool similar to ack, but faster.\n",
      " - FFmpeg/FFmpeg                  17985.0 Mirror of git://source.ffmpeg.org/ffmpeg.git\n",
      " - tmux/tmux                      16233.0 tmux source code\n",
      "\n",
      "\n",
      "Language: C#\n",
      " - shadowsocks/shadowsocks-windows 46418.0 If you want to keep a secret, you must also hide it from yourself.\n",
      " - CodeHubApp/CodeHub             22507.0 CodeHub is an iOS application written using Xamarin\n",
      " - PowerShell/PowerShell          17091.0 PowerShell for every system!\n",
      " - dotnet/aspnetcore              15506.0 ASP.NET Core is a cross-platform .NET framework for building modern cloud-based web applications on Windows, Mac, or Linux.\n",
      " - Wox-launcher/Wox               15399.0 Launcher for Windows, an alternative to Alfred and Launchy.\n",
      " - mxgmn/WaveFunctionCollapse     13435.0 Bitmap & tilemap generation from a single example with the help of ideas from quantum mechanics.\n",
      " - 0xd4d/dnSpy                    12868.0 .NET debugger and assembly editor\n",
      " - dotnet-architecture/eShopOnContainers 12376.0 Cross-platform .NET sample microservices and container based application that runs on Linux Windows and macOS. Powered by .NET Core 3.0, Docker Containers and Azure Kubernetes Services. Supports Visual Studio, VS for Mac and CLI based environments with Docker CLI, dotnet CLI, VS Code or any other code editor.\n",
      " - dotnet/coreclr                 12311.0 CoreCLR is the runtime for .NET Core. It includes the garbage collector, JIT compiler, primitive data types and low-level classes.\n",
      " - dotnet/roslyn                  12286.0 The Roslyn .NET compiler provides C# and Visual Basic languages with rich code analysis APIs.\n",
      "\n",
      "\n",
      "Language: C++\n",
      " - tensorflow/tensorflow          139922.0 An Open Source Machine Learning Framework for Everyone\n",
      " - electron/electron              80013.0 :electron: Build cross-platform desktop apps with JavaScript, HTML, and CSS\n",
      " - microsoft/terminal             56318.0 The new Windows Terminal, and the original Windows console host - all in the same place!\n",
      " - apple/swift                    50278.0 The Swift Programming Language\n",
      " - bitcoin/bitcoin                41855.0 Bitcoin Core integration/staging tree\n",
      " - opencv/opencv                  41404.0 Open Source Computer Vision Library\n",
      " - protocolbuffers/protobuf       39499.0 Protocol Buffers - Google's data interchange format\n",
      " - pytorch/pytorch                35273.0 Tensors and Dynamic neural networks in Python with strong GPU acceleration\n",
      " - x64dbg/x64dbg                  34661.0 An open-source x64/x32 debugger for windows.\n",
      " - tesseract-ocr/tesseract        32381.0 Tesseract Open Source OCR Engine (main repository)\n",
      "\n",
      "\n",
      "Language: Go\n",
      " - golang/go                      67826.0 The Go programming language\n",
      " - kubernetes/kubernetes          62223.0 Production-Grade Container Scheduling and Management\n",
      " - moby/moby                      56082.0 Moby Project - a collaborative project for the container ecosystem to assemble container-based systems\n",
      " - gohugoio/hugo                  40827.0 The world’s fastest framework for building websites.\n",
      " - gin-gonic/gin                  34657.0 Gin is a HTTP web framework written in Go (Golang). It features a Martini-like API with much better performance -- up to 40 times faster. If you need smashing performance, get yourself some Gin.\n",
      " - gogs/gogs                      33015.0 Gogs is a painless self-hosted Git service\n",
      " - fatedier/frp                   31852.0 A fast reverse proxy to help you expose a local server behind a NAT or firewall to the internet.\n",
      " - syncthing/syncthing            29505.0 Open Source Continuous File Synchronization\n",
      " - etcd-io/etcd                   29129.0 Distributed reliable key-value store for the most critical data of a distributed system\n",
      " - prometheus/prometheus          28636.0 The Prometheus monitoring system and time series database.\n",
      "\n",
      "\n",
      "Language: Java\n",
      " - elastic/elasticsearch          46519.0 Open Source, Distributed, RESTful Search Engine\n",
      " - spring-projects/spring-boot    44778.0 Spring Boot\n",
      " - ReactiveX/RxJava               41618.0 RxJava – Reactive Extensions for the JVM – a library for composing asynchronous and event-based programs using observable sequences for the Java VM.\n",
      " - square/okhttp                  35587.0 An HTTP client for Android, Kotlin, and Java.\n",
      " - google/guava                   35553.0 Google core libraries for Java\n",
      " - spring-projects/spring-framework 34717.0 Spring Framework\n",
      " - square/retrofit                34675.0 Type-safe HTTP client for Android and Java by Square, Inc.\n",
      " - apache/dubbo                   30823.0 Apache Dubbo is a high-performance, java based, open source RPC framework.\n",
      " - PhilJay/MPAndroidChart         29619.0 A powerful 🚀 Android chart view / graph view library, supporting line- bar- pie- radar- bubble- and candlestick charts as well as scaling, dragging and animations.\n",
      " - bumptech/glide                 28102.0 An image loading and caching library for Android focused on smooth scrolling\n",
      "\n",
      "\n",
      "Language: JavaScript\n",
      " - freeCodeCamp/freeCodeCamp      308053.0 The https://www.freeCodeCamp.org open source codebase and curriculum. Learn to code for free together with millions of people.\n",
      " - facebook/react                 142155.0 A declarative, efficient, and flexible JavaScript library for building user interfaces.\n",
      " - twbs/bootstrap                 138064.0 The most popular HTML, CSS, and JavaScript framework for developing responsive, mobile first projects on the web.\n",
      " - facebook/create-react-app      75136.0 Set up a modern web app by running one command.\n",
      " - axios/axios                    68575.0 Promise based HTTP client for the browser and node.js\n",
      " - FortAwesome/Font-Awesome       61831.0 The iconic SVG, font, and CSS toolkit\n",
      " - angular/angular.js             59655.0 AngularJS - HTML enhanced for web apps!\n",
      " - webpack/webpack                52573.0 A bundler for javascript and friends. Packs many modules into a few bundled assets. Code Splitting allows for loading parts of the application on demand. Through \"loaders\", modules can be CommonJs, AMD, ES6 modules, CSS, Images, JSON, Coffeescript, LESS, ... and your custom stuff.\n",
      " - hakimel/reveal.js              49821.0 The HTML Presentation Framework\n",
      " - socketio/socket.io             48509.0 Realtime application framework (Node.JS server)\n",
      "\n",
      "\n",
      "Language: PHP\n",
      " - laravel/laravel                57039.0 A PHP framework for web artisans\n",
      " - blueimp/jQuery-File-Upload     30477.0 File Upload widget with multiple file selection, drag&drop support, progress bar, validation and preview images, audio and video for jQuery. Supports cross-domain, chunked and resumable file uploads. Works with any server-side platform (Google App Engine, PHP, Python, Ruby on Rails, Java, etc.) that supports standard HTML form file uploads.\n",
      " - fzaninotto/Faker               22935.0 Faker is a PHP library that generates fake data for you\n",
      " - symfony/symfony                22562.0 The Symfony PHP framework\n",
      " - composer/composer              22007.0 Dependency Manager for PHP\n",
      " - guzzle/guzzle                  18510.0 Guzzle, an extensible PHP HTTP client\n",
      " - bcit-ci/CodeIgniter            17866.0 Open Source PHP Framework (originally from EllisLab)\n",
      " - Seldaek/monolog                16704.0 Sends your logs to files, sockets, inboxes, databases and various web services\n",
      " - sebastianbergmann/phpunit      15642.0 The PHP Unit Testing framework.\n",
      " - PHPMailer/PHPMailer            14311.0 The classic email sending library for PHP\n",
      "\n",
      "\n",
      "Language: Python\n",
      " - ytdl-org/youtube-dl            60112.0 Command-line program to download videos from YouTube.com and other video sites\n",
      " - nvbn/thefuck                   51411.0 Magnificent app which corrects your previous console command.\n",
      " - pallets/flask                  48349.0 The Python micro framework for building web applications.\n",
      " - django/django                  46479.0 The Web framework for perfectionists with deadlines.\n",
      " - keras-team/keras               46366.0 Deep Learning for humans\n",
      " - jakubroztocil/httpie           45323.0 As easy as HTTPie /aitch-tee-tee-pie/  🥧 Modern command line HTTP client – user-friendly curl alternative with intuitive UI, JSON support, syntax highlighting, wget-like downloads, extensions, etc.  https://twitter.com/clihttp\n",
      " - psf/requests                   41307.0 A simple, yet elegant HTTP library.\n",
      " - ansible/ansible                41278.0 Ansible is a radically simple IT automation platform that makes your applications and systems easier to deploy. Avoid writing scripts or custom code to deploy and update your applications — automate in a language that approaches plain English, using SSH, with no agents to install on remote systems. https://docs.ansible.com/ansible/\n",
      " - scikit-learn/scikit-learn      38880.0 scikit-learn: machine learning in Python\n",
      " - scrapy/scrapy                  35698.0 Scrapy, a fast high-level web crawling & scraping framework for Python.\n",
      "\n",
      "\n",
      "Language: Ruby\n",
      " - rails/rails                    44832.0 Ruby on Rails\n",
      " - jekyll/jekyll                  39491.0 :globe_with_meridians: Jekyll is a blog-aware static site generator in Ruby\n",
      " - discourse/discourse            29740.0 A platform for community discussion. Free, open, simple.\n",
      " - fastlane/fastlane              27826.0 🚀 The easiest way to automate building and releasing your iOS and Android apps\n",
      " - huginn/huginn                  26646.0 Create agents that monitor and act on your behalf.  Your agents are standing by!\n",
      " - gitlabhq/gitlabhq              22119.0 GitLab CE Mirror | Please open new issues in our issue tracker on GitLab.com\n",
      " - freeCodeCamp/devdocs           22083.0 API Documentation Browser\n",
      " - heartcombo/devise              20461.0 Flexible authentication solution for Rails with Warden.\n",
      " - Homebrew/brew                  20264.0 🍺 The missing package manager for macOS (or Linux)\n",
      " - tootsuite/mastodon             20054.0 Your self-hosted, globally interconnected microblogging community\n",
      "\n",
      "\n",
      "Language: TypeScript\n",
      " - microsoft/vscode               89935.0 Visual Studio Code\n",
      " - microsoft/TypeScript           57173.0 TypeScript is a superset of JavaScript that compiles to clean JavaScript output.\n",
      " - angular/angular                56275.0 One framework. Mobile & desktop.\n",
      " - ant-design/ant-design          55327.0 🌈 A UI Design Language and React UI library\n",
      " - reduxjs/redux                  51917.0 Predictable state container for JavaScript apps\n",
      " - storybookjs/storybook          44694.0 📓 UI component dev & test: React, Vue, Angular, React Native, Ember, Web Components & more!\n",
      " - denoland/deno                  40799.0 A secure JavaScript and TypeScript runtime\n",
      " - ionic-team/ionic               39999.0 Build amazing Native and Progressive Web Apps with web technologies. One app running on everything 🎉\n",
      " - grafana/grafana                32951.0 The tool for beautiful monitoring and metric analytics & dashboards for Graphite, InfluxDB & Prometheus & More\n",
      " - zeit/hyper                     32239.0 A terminal built on web technologies\n",
      "\n",
      "\n"
     ]
    }
   ],
   "source": [
    "projects[\"selected\"] = False\n",
    "for lang, data in projects.groupby([\"language\"]):\n",
    "    print(f\"Language: {lang}\")\n",
    "    top_stars = data[(data.software_project == True)].nlargest(n=10, columns=\"stars\")\n",
    "    projects.loc[projects.index.isin(top_stars.index), \"selected\"] = True\n",
    "    for name, project in top_stars.iterrows():\n",
    "        print(f\" - {name:30} {project.stars:6} {project.description}\")\n",
    "    print(\"\\n\")\n"
   ]
  },
  {
   "cell_type": "code",
   "execution_count": 48,
   "metadata": {},
   "outputs": [],
   "source": [
    "projects = projects[projects[\"selected\"] == True].copy()"
   ]
  },
  {
   "cell_type": "code",
   "execution_count": 49,
   "metadata": {},
   "outputs": [],
   "source": [
    "projects.drop(\"selected\", axis=1, inplace=True)\n",
    "projects.drop(\"software_project\", axis=1, inplace=True)"
   ]
  },
  {
   "cell_type": "markdown",
   "metadata": {},
   "source": [
    "### Generate script to clone repositories"
   ]
  },
  {
   "cell_type": "code",
   "execution_count": 50,
   "metadata": {
    "scrolled": false
   },
   "outputs": [],
   "source": [
    "with open(\"clone-urls.sh\", \"w\") as script_file:\n",
    "    for name, project in projects.iterrows():\n",
    "        script_file.write(f\"[[ -d {name}.git ]] || git clone --mirror --bare {project['git_url']} {name}.git\\n\")"
   ]
  },
  {
   "cell_type": "markdown",
   "metadata": {},
   "source": [
    "## Generate script to update repoitoriess"
   ]
  },
  {
   "cell_type": "code",
   "execution_count": 51,
   "metadata": {},
   "outputs": [],
   "source": [
    "with open(\"update-urls.sh\", \"w\") as script_file:\n",
    "    for name, project in projects.iterrows():\n",
    "        script_file.write(f\"[[ ! -d {name}.git ]] || (cd {name}.git; git fetch; cd -)\\n\")"
   ]
  },
  {
   "cell_type": "markdown",
   "metadata": {},
   "source": [
    "### Generate input for localhub"
   ]
  },
  {
   "cell_type": "code",
   "execution_count": 52,
   "metadata": {},
   "outputs": [],
   "source": [
    "# ~/dev/localhub/localhub.sh  -b /usr/local/repos/ . < ~/papers/2019-mining/experiment/repos-urls.txt # rel-maintenance/experiment/repos-urls.txt"
   ]
  },
  {
   "cell_type": "code",
   "execution_count": 53,
   "metadata": {
    "scrolled": true
   },
   "outputs": [
    {
     "name": "stdout",
     "output_type": "stream",
     "text": [
      "100 projects\n"
     ]
    }
   ],
   "source": [
    "i = 0\n",
    "with open(\"repos-urls.txt\", \"w\") as url_file:\n",
    "    for name, project in projects.iterrows():\n",
    "        url_file.write(f\"{project['git_url']}\\n\")\n",
    "        i += 1\n",
    "print(f\"{i} projects\")"
   ]
  },
  {
   "cell_type": "code",
   "execution_count": 54,
   "metadata": {},
   "outputs": [],
   "source": [
    "projects.to_pickle(\"projects.zip\")"
   ]
  },
  {
   "cell_type": "code",
   "execution_count": 55,
   "metadata": {},
   "outputs": [],
   "source": [
    "projects.to_json(\"projects.json\", orient='index')"
   ]
  },
  {
   "cell_type": "code",
   "execution_count": 56,
   "metadata": {},
   "outputs": [
    {
     "data": {
      "text/plain": [
       "19915.0"
      ]
     },
     "execution_count": 56,
     "metadata": {},
     "output_type": "execute_result"
    }
   ],
   "source": [
    "projects.num_tags.sum()"
   ]
  },
  {
   "cell_type": "code",
   "execution_count": 57,
   "metadata": {},
   "outputs": [
    {
     "data": {
      "text/plain": [
       "6436.0"
      ]
     },
     "execution_count": 57,
     "metadata": {},
     "output_type": "execute_result"
    }
   ],
   "source": [
    "projects.num_releases.sum()"
   ]
  },
  {
   "cell_type": "code",
   "execution_count": null,
   "metadata": {},
   "outputs": [],
   "source": []
  }
 ],
 "metadata": {
  "kernelspec": {
   "display_name": "Python 3",
   "language": "python",
   "name": "python3"
  },
  "language_info": {
   "codemirror_mode": {
    "name": "ipython",
    "version": 3
   },
   "file_extension": ".py",
   "mimetype": "text/x-python",
   "name": "python",
   "nbconvert_exporter": "python",
   "pygments_lexer": "ipython3",
   "version": "3.7.4"
  }
 },
 "nbformat": 4,
 "nbformat_minor": 2
}
