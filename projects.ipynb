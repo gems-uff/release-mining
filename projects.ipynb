{
 "cells": [
  {
   "cell_type": "markdown",
   "metadata": {},
   "source": [
    "# Select Project Corpus\n",
    "\n",
    "This notebook search github for projects that are suitable for this experiment"
   ]
  },
  {
   "cell_type": "markdown",
   "metadata": {},
   "source": [
    "Search github for projects"
   ]
  },
  {
   "cell_type": "code",
   "execution_count": 3,
   "metadata": {},
   "outputs": [],
   "source": [
    "from github import Github\n",
    "import pprint\n",
    "import json\n",
    "import datetime\n",
    "\n",
    "import pandas as pd\n",
    "import numpy as np\n",
    "import matplotlib.pyplot as plt\n",
    "import matplotlib"
   ]
  },
  {
   "cell_type": "markdown",
   "metadata": {},
   "source": [
    "# Parameters"
   ]
  },
  {
   "cell_type": "code",
   "execution_count": 2,
   "metadata": {},
   "outputs": [],
   "source": [
    "languages = [\n",
    "    \"javascript\",\n",
    "    \"typescript\",\n",
    "    \"java\",\n",
    "    \"python\",\n",
    "    \"php\",\n",
    "    \"c++\",\n",
    "    \"c#\",\n",
    "    #\"shell\",\n",
    "    \"c\",\n",
    "    \"ruby\",\n",
    "    \"go\"\n",
    "]\n",
    "\n",
    "num_projects_per_language = 10\n",
    "num_projects_per_language_to_search = num_projects_per_language + 10\n",
    "active_project_date = datetime.datetime(2019, 10, 12)"
   ]
  },
  {
   "cell_type": "markdown",
   "metadata": {},
   "source": [
    "## Connect to github"
   ]
  },
  {
   "cell_type": "code",
   "execution_count": null,
   "metadata": {},
   "outputs": [],
   "source": [
    "token=!cat token\n",
    "github = Github(token[0])"
   ]
  },
  {
   "cell_type": "markdown",
   "metadata": {},
   "source": [
    "## Search for repositories"
   ]
  },
  {
   "cell_type": "code",
   "execution_count": null,
   "metadata": {
    "scrolled": true
   },
   "outputs": [],
   "source": [
    "projects_data = []\n",
    "for lang in languages:\n",
    "    repos = github.search_repositories(query=f\"language:{lang}\", sort=\"stars\", order=\"desc\")\n",
    "    for i in range(num_projects_per_language_to_search):\n",
    "        repo = repos[i]\n",
    "        print(repo)\n",
    "        project_data = {}\n",
    "        project_data[\"name\"] = repo.full_name\n",
    "        project_data[\"description\"] = repo.description\n",
    "        project_data[\"stars\"] = repo.stargazers_count\n",
    "        project_data[\"url\"] = repo.url\n",
    "        project_data[\"git_url\"] = repo.git_url\n",
    "        project_data[\"language\"] = repo.language\n",
    "        project_data[\"created_at\"] = repo.created_at\n",
    "        \n",
    "        commits = repo.get_commits()#since=active_project_date)\n",
    "        active_project = False\n",
    "        last_commit = commits[0]\n",
    "        if last_commit:\n",
    "            last_commit = last_commit.commit\n",
    "            committer = last_commit.committer\n",
    "            last_commit_date = committer.date\n",
    "            if last_commit_date >= active_project_date:\n",
    "                active_project = True\n",
    "        project_data[\"active\"] = active_project\n",
    "        projects_data.append(project_data)"
   ]
  },
  {
   "cell_type": "code",
   "execution_count": null,
   "metadata": {},
   "outputs": [],
   "source": [
    "projects = pd.DataFrame(projects_data)\n",
    "projects.set_index(keys=[\"name\"], inplace=True)"
   ]
  },
  {
   "cell_type": "markdown",
   "metadata": {},
   "source": [
    "Exclude **nom software** projects"
   ]
  },
  {
   "cell_type": "code",
   "execution_count": null,
   "metadata": {},
   "outputs": [],
   "source": [
    "projects[\"software_project\"] = True\n",
    "projects[\"discard\"] = False"
   ]
  },
  {
   "cell_type": "code",
   "execution_count": null,
   "metadata": {},
   "outputs": [],
   "source": [
    "projects.loc[\"bayandin/awesome-awesomeness\", \"software_project\"] = False\n",
    "projects.loc[\"tensorflow/models\", \"software_project\"] = False\n",
    "projects.loc[\"TheAlgorithms/Python\", \"software_project\"] = False\n",
    "projects.loc[\"vinta/awesome-python\", \"software_project\"] = False\n",
    "projects.loc[\"public-apis/public-apis\", \"software_project\"] = False\n",
    "projects.loc[\"donnemartin/system-design-primer\", \"software_project\"] = False\n",
    "projects.loc[\"danielmiessler/SecLists\", \"software_project\"] = False\n",
    "projects.loc[\"domnikl/DesignPatternsPHP\", \"software_project\"] = False\n",
    "projects.loc[\"laravel/framework\", \"software_project\"] = False\n",
    "projects.loc[\"airbnb/javascript\", \"software_project\"] = False\n",
    "projects.loc[\"kdn251/interviews\", \"software_project\"] = False\n",
    "projects.loc[\"MisterBooo/LeetCodeAnimation\", \"software_project\"] = False\n",
    "projects.loc[\"iluwatar/java-design-patterns\", \"software_project\"] = False\n",
    "projects.loc[\"Snailclimb/JavaGuide\", \"software_project\"] = False\n",
    "projects.loc[\"CyC2018/CS-Notes\", \"software_project\"] = False\n",
    "projects.loc[\"doocs/advanced-java\", \"software_project\"] = False\n",
    "projects.loc[\"avelino/awesome-go\", \"software_project\"] = False\n",
    "projects.loc[\"josephmisiti/awesome-machine-learning\", \"software_project\"] = False\n",
    "projects.loc[\"astaxie/build-web-application-with-golang\", \"software_project\"] = False\n",
    "projects.loc[\"SamyPesse/How-to-Make-a-Computer-Operating-System\", \"software_project\"] = False\n",
    "projects.loc[\"julycoding/The-Art-Of-Programming-By-July\", \"software_project\"] = False\n",
    "projects.loc[\"cfenollosa/os-tutorial\", \"software_project\"] = False\n",
    "projects.loc[\"trekhleb/javascript-algorithms\", \"software_project\"] = False\n",
    "projects.loc[\"freeCodeCamp/devdocs\", \"software_project\"] = False\n",
    "\n",
    "# big projects\n",
    "projects.loc[\"torvalds/linux\", \"discard\"] = True\n",
    "\n",
    "# Unkwnown projects\n",
    "#projects.loc[\"Falsemacrozheng/mall\", \"discard\"] = True # japanese\n",
    "projects.loc[\"macrozheng/mall\", \"discard\"] = True # japanese"
   ]
  },
  {
   "cell_type": "markdown",
   "metadata": {},
   "source": [
    "### Select top 10 star projects per language"
   ]
  },
  {
   "cell_type": "code",
   "execution_count": null,
   "metadata": {
    "scrolled": true
   },
   "outputs": [],
   "source": [
    "projects[\"selected\"] = False\n",
    "for lang, data in projects.groupby([\"language\"]):\n",
    "    print(f\"Language: {lang}\")\n",
    "    top_stars = data[(data.software_project == True) & (data.active == True) & (data.discard == False)].nlargest(n=num_projects_per_language, columns=\"stars\")\n",
    "    projects.loc[projects.index.isin(top_stars.index), \"selected\"] = True\n",
    "    for name, project in top_stars.iterrows():\n",
    "        print(f\" - {name:30} {project.stars:6} {project.description}\")\n",
    "    print(\"\\n\") \n"
   ]
  },
  {
   "cell_type": "markdown",
   "metadata": {},
   "source": [
    "### Discard reason\n"
   ]
  },
  {
   "cell_type": "code",
   "execution_count": null,
   "metadata": {
    "scrolled": true
   },
   "outputs": [],
   "source": [
    "other = 0\n",
    "nom_software = 0\n",
    "inactive = 0\n",
    "for lang, data in projects.groupby([\"language\"]):\n",
    "    print(f\"Language: {lang}\")\n",
    "    i = 0\n",
    "    \n",
    "    lang_other = 0\n",
    "    lang_nom_software = 0\n",
    "    lang_inactive = 0\n",
    "\n",
    "    for name, project in data.sort_values(by=\"stars\", ascending=False).iterrows():\n",
    "        if i < num_projects_per_language:\n",
    "            if not project.active:\n",
    "                lang_inactive += 1\n",
    "            elif not project.software_project:\n",
    "                lang_nom_software += 1\n",
    "            elif project.discard:\n",
    "                lang_other += 1\n",
    "\n",
    "        if not project.selected and i < num_projects_per_language:\n",
    "            print(f\" {'X' if project.selected else '':1} {name:50} {project.stars:6} {'A' if project.active else 'IN':2} {'S' if project.software_project else 'NS':2} {'OT' if project.discard else '':2}\")\n",
    "        if project.selected:\n",
    "            i += 1 \n",
    "\n",
    "    print(f\"Inactive: {lang_inactive:2} Non Software: {lang_nom_software:2} Other: {lang_other:2} \")    \n",
    "    print(\"\\n\")\n",
    "    other += lang_other\n",
    "    nom_software += lang_nom_software\n",
    "    inactive += lang_inactive\n",
    "\n",
    "print(f\"---\\nInactive: {inactive:2} Non Software: {nom_software:2} Other: {other:2} \")    "
   ]
  },
  {
   "cell_type": "markdown",
   "metadata": {},
   "source": [
    "### Generate the final dataset"
   ]
  },
  {
   "cell_type": "code",
   "execution_count": null,
   "metadata": {},
   "outputs": [],
   "source": [
    "projects = projects[projects[\"selected\"] == True].copy()"
   ]
  },
  {
   "cell_type": "code",
   "execution_count": null,
   "metadata": {},
   "outputs": [],
   "source": [
    "projects.drop(\"selected\", axis=1, inplace=True)\n",
    "projects.drop(\"software_project\", axis=1, inplace=True)\n",
    "projects.drop(\"discard\", axis=1, inplace=True)"
   ]
  },
  {
   "cell_type": "markdown",
   "metadata": {},
   "source": [
    "### Generate script to clone repositories"
   ]
  },
  {
   "cell_type": "code",
   "execution_count": null,
   "metadata": {
    "scrolled": false
   },
   "outputs": [],
   "source": [
    "with open(\"clone-urls.sh\", \"w\") as script_file:\n",
    "    for name, project in projects.iterrows():\n",
    "        script_file.write(f\"[[ -d {name}.git ]] || git clone --mirror --bare {project['git_url']} {name}.git\\n\")"
   ]
  },
  {
   "cell_type": "markdown",
   "metadata": {},
   "source": [
    "## Generate script to update repoitoriess"
   ]
  },
  {
   "cell_type": "code",
   "execution_count": null,
   "metadata": {},
   "outputs": [],
   "source": [
    "with open(\"update-urls.sh\", \"w\") as script_file:\n",
    "    for name, project in projects.iterrows():\n",
    "        script_file.write(f\"[[ ! -d {name}.git ]] || (cd {name}.git; git fetch; cd -)\\n\")"
   ]
  },
  {
   "cell_type": "markdown",
   "metadata": {},
   "source": [
    "### Generate input for localhub"
   ]
  },
  {
   "cell_type": "code",
   "execution_count": null,
   "metadata": {},
   "outputs": [],
   "source": [
    "# ~/dev/localhub/localhub.sh  -b /usr/local/repos/ . < ~/papers/2019-mining/experiment/repos-urls.txt # rel-maintenance/experiment/repos-urls.txt"
   ]
  },
  {
   "cell_type": "code",
   "execution_count": null,
   "metadata": {
    "scrolled": true
   },
   "outputs": [],
   "source": [
    "i = 0\n",
    "with open(\"repos-urls.txt\", \"w\") as url_file:\n",
    "    for name, project in projects.iterrows():\n",
    "        url_file.write(f\"{project['git_url']}\\n\")\n",
    "        i += 1\n",
    "print(f\"{i} projects\")"
   ]
  },
  {
   "cell_type": "code",
   "execution_count": null,
   "metadata": {},
   "outputs": [],
   "source": [
    "projects.to_pickle(\"projects.zip\")"
   ]
  },
  {
   "cell_type": "code",
   "execution_count": null,
   "metadata": {},
   "outputs": [],
   "source": [
    "projects.to_json(\"projects.json\", orient='index')"
   ]
  },
  {
   "cell_type": "code",
   "execution_count": null,
   "metadata": {},
   "outputs": [],
   "source": []
  }
 ],
 "metadata": {
  "kernelspec": {
   "display_name": "Python 3",
   "language": "python",
   "name": "python3"
  },
  "language_info": {
   "codemirror_mode": {
    "name": "ipython",
    "version": 3
   },
   "file_extension": ".py",
   "mimetype": "text/x-python",
   "name": "python",
   "nbconvert_exporter": "python",
   "pygments_lexer": "ipython3",
   "version": "3.7.4"
  }
 },
 "nbformat": 4,
 "nbformat_minor": 2
}
