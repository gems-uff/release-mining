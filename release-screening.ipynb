{
 "cells": [
  {
   "cell_type": "markdown",
   "metadata": {},
   "source": [
    "#\n",
    "\n",
    "This notebook evaluate the releases"
   ]
  },
  {
   "cell_type": "markdown",
   "metadata": {},
   "source": [
    "# Imports"
   ]
  },
  {
   "cell_type": "code",
   "execution_count": 1,
   "metadata": {},
   "outputs": [],
   "source": [
    "import datetime\n",
    "import json"
   ]
  },
  {
   "cell_type": "markdown",
   "metadata": {},
   "source": [
    "## Data Analysis"
   ]
  },
  {
   "cell_type": "code",
   "execution_count": 2,
   "metadata": {},
   "outputs": [],
   "source": [
    "# %matplotlib inline\n",
    "%matplotlib notebook\n",
    "\n",
    "import matplotlib.pyplot as plt\n",
    "import matplotlib\n",
    "import numpy as np\n",
    "import pandas as pd\n",
    "pd.options.display.max_rows = 1000\n",
    "\n",
    "from scipy.stats import wilcoxon\n",
    "from scipy.stats import ranksums"
   ]
  },
  {
   "cell_type": "markdown",
   "metadata": {},
   "source": [
    "##  Releasy development version"
   ]
  },
  {
   "cell_type": "code",
   "execution_count": 3,
   "metadata": {},
   "outputs": [],
   "source": [
    "import os\n",
    "import sys\n",
    "\n",
    "releasy_module = os.path.abspath(os.path.join('..','..','..','dev','releasy'))\n",
    "if releasy_module not in sys.path:\n",
    "    sys.path.insert(0, releasy_module)"
   ]
  },
  {
   "cell_type": "code",
   "execution_count": 4,
   "metadata": {},
   "outputs": [],
   "source": [
    "for mod in sorted(sys.modules.keys()):\n",
    "    if mod.startswith(\"releasy\"):\n",
    "        del sys.modules[mod]"
   ]
  },
  {
   "cell_type": "code",
   "execution_count": 5,
   "metadata": {},
   "outputs": [],
   "source": [
    "from releasy.miner.vcs.miner import Miner\n",
    "from releasy.miner.vcs.git import GitVcs"
   ]
  },
  {
   "cell_type": "code",
   "execution_count": 6,
   "metadata": {},
   "outputs": [],
   "source": [
    "from releasy.miner.vcs import miner as releasy_miner\n",
    "from releasy.miner.vcs import git as releasy_git"
   ]
  },
  {
   "cell_type": "code",
   "execution_count": 7,
   "metadata": {},
   "outputs": [],
   "source": [
    "import releasy"
   ]
  },
  {
   "cell_type": "code",
   "execution_count": 8,
   "metadata": {},
   "outputs": [
    {
     "data": {
      "text/plain": [
       "<module 'releasy.miner.vcs.git' from '/home/felipecrp/dev/releasy/releasy/miner/vcs/git.py'>"
      ]
     },
     "execution_count": 8,
     "metadata": {},
     "output_type": "execute_result"
    }
   ],
   "source": [
    "import importlib\n",
    "importlib.reload(releasy_miner)\n",
    "importlib.reload(releasy_git)"
   ]
  },
  {
   "cell_type": "markdown",
   "metadata": {},
   "source": [
    "# Dataset setup"
   ]
  },
  {
   "cell_type": "markdown",
   "metadata": {},
   "source": [
    "## Variables"
   ]
  },
  {
   "cell_type": "code",
   "execution_count": 157,
   "metadata": {},
   "outputs": [],
   "source": [
    "repo_path = os.path.join('..','..','..','repos')"
   ]
  },
  {
   "cell_type": "code",
   "execution_count": 158,
   "metadata": {},
   "outputs": [],
   "source": [
    "projects = pd.read_pickle(\"projects.zip\")\n",
    "projects[\"data\"] = None"
   ]
  },
  {
   "cell_type": "markdown",
   "metadata": {},
   "source": [
    "### Mining projects using Releasy\n",
    "\n",
    "  - Currently, the **track_base_release** param has some performance issues. So to enable rapid mining, it is recommended to disable this param.\n",
    "  \n",
    "```{python}\n",
    "params = {\n",
    "    \"track_base_release\": False\n",
    "}\n",
    "```"
   ]
  },
  {
   "cell_type": "code",
   "execution_count": 159,
   "metadata": {},
   "outputs": [],
   "source": [
    "release_mine_params = {}\n",
    "release_mine_params[\"curl/curl\"] = {\n",
    "    \"version_separator\": \"_\"\n",
    "}"
   ]
  },
  {
   "cell_type": "code",
   "execution_count": 169,
   "metadata": {
    "scrolled": true
   },
   "outputs": [
    {
     "name": "stdout",
     "output_type": "stream",
     "text": [
      "2020-01-12 23:40:42.214847 -   1 - Processing freeCodeCamp/freeCodeCamp\n",
      "2020-01-12 23:40:42.215907 -   2 - Processing vuejs/vue\n",
      "2020-01-12 23:40:42.224671 -   3 - Processing facebook/react\n",
      "2020-01-12 23:40:42.229920 -   4 - Processing twbs/bootstrap\n",
      "2020-01-12 23:40:42.232813 -   5 - Processing facebook/react-native\n",
      "2020-01-12 23:40:42.243267 -   6 - Processing facebook/create-react-app\n",
      "2020-01-12 23:40:42.250170 -   7 - Processing axios/axios\n",
      "2020-01-12 23:40:42.252900 -   8 - Processing nodejs/node\n",
      "2020-01-12 23:40:42.282474 -   9 - Processing FortAwesome/Font-Awesome\n",
      "2020-01-12 23:40:42.285418 -  10 - Processing angular/angular.js\n",
      "2020-01-12 23:40:42.293852 -  11 - Processing microsoft/vscode\n",
      "2020-01-12 23:40:42.299788 -  12 - Processing microsoft/TypeScript\n",
      "2020-01-12 23:40:42.304737 -  13 - Processing angular/angular\n",
      "2020-01-12 23:40:42.315046 -  14 - Processing ant-design/ant-design\n",
      "2020-01-12 23:40:42.324263 -  15 - Processing reduxjs/redux\n",
      "2020-01-12 23:40:42.327185 -  16 - Processing storybookjs/storybook\n",
      "2020-01-12 23:40:42.353279 -  17 - Processing denoland/deno\n",
      "2020-01-12 23:40:42.356374 -  18 - Processing ionic-team/ionic\n",
      "2020-01-12 23:40:42.362929 -  19 - Processing grafana/grafana\n",
      "2020-01-12 23:40:42.369596 -  20 - Processing zeit/hyper\n",
      "2020-01-12 23:40:42.373359 -  21 - Processing elastic/elasticsearch\n",
      "2020-01-12 23:40:42.383504 -  22 - Processing square/okhttp\n",
      "2020-01-12 23:40:42.387580 -  23 - Processing google/guava\n",
      "2020-01-12 23:40:42.390933 -  24 - Processing spring-projects/spring-framework\n",
      "2020-01-12 23:40:42.398150 -  25 - Processing square/retrofit\n",
      "2020-01-12 23:40:42.400800 -  26 - Processing apache/dubbo\n",
      "2020-01-12 23:40:42.403553 -  27 - Processing bumptech/glide\n",
      "2020-01-12 23:40:42.405485 -  28 - Processing airbnb/lottie-android\n",
      "2020-01-12 23:40:42.408809 -  29 - Processing Blankj/AndroidUtilCode\n",
      "2020-01-12 23:40:42.412575 -  30 - Processing JakeWharton/butterknife\n",
      "2020-01-12 23:40:42.415036 -  31 - Processing ytdl-org/youtube-dl\n",
      "2020-01-12 23:40:42.457834 -  32 - Processing nvbn/thefuck\n",
      "2020-01-12 23:40:42.460836 -  33 - Processing pallets/flask\n",
      "2020-01-12 23:40:42.462534 -  34 - Processing django/django\n",
      "2020-01-12 23:40:42.472654 -  35 - Processing keras-team/keras\n",
      "2020-01-12 23:40:42.475017 -  36 - Processing jakubroztocil/httpie\n",
      "2020-01-12 23:40:42.476784 -  37 - Processing psf/requests\n",
      "2020-01-12 23:40:42.481777 -  38 - Processing ansible/ansible\n",
      "2020-01-12 23:40:42.492401 -  39 - Processing scikit-learn/scikit-learn\n",
      "2020-01-12 23:40:42.496434 -  40 - Processing scrapy/scrapy\n",
      "2020-01-12 23:40:42.499850 -  41 - Processing laravel/laravel\n",
      "2020-01-12 23:40:42.503496 -  42 - Processing blueimp/jQuery-File-Upload\n",
      "2020-01-12 23:40:42.508101 -  43 - Processing fzaninotto/Faker\n",
      "2020-01-12 23:40:42.509276 -  44 - Processing symfony/symfony\n",
      "2020-01-12 23:40:42.528433 -  45 - Processing composer/composer\n",
      "2020-01-12 23:40:42.531276 -  46 - Processing guzzle/guzzle\n",
      "2020-01-12 23:40:42.535985 -  47 - Processing bcit-ci/CodeIgniter\n",
      "2020-01-12 23:40:42.538214 -  48 - Processing Seldaek/monolog\n",
      "2020-01-12 23:40:42.540370 -  49 - Processing sebastianbergmann/phpunit\n",
      "2020-01-12 23:40:42.562101 -  50 - Processing PHPMailer/PHPMailer\n",
      "2020-01-12 23:40:42.564813 -  51 - Processing tensorflow/tensorflow\n",
      "2020-01-12 23:40:42.568567 -  52 - Processing electron/electron\n",
      "2020-01-12 23:40:42.583443 -  53 - Processing microsoft/terminal\n",
      "2020-01-12 23:40:42.586064 -  54 - Processing apple/swift\n",
      "2020-01-12 23:40:42.625788 -  55 - Processing bitcoin/bitcoin\n",
      "2020-01-12 23:40:42.636123 -  56 - Processing opencv/opencv\n",
      "2020-01-12 23:40:42.640178 -  57 - Processing protocolbuffers/protobuf\n",
      "2020-01-12 23:40:42.643277 -  58 - Processing pytorch/pytorch\n",
      "2020-01-12 23:40:42.645107 -  59 - Processing x64dbg/x64dbg\n",
      "2020-01-12 23:40:42.646681 -  60 - Processing tesseract-ocr/tesseract\n",
      "2020-01-12 23:40:42.649051 -  61 - Processing shadowsocks/shadowsocks-windows\n",
      "2020-01-12 23:40:42.651380 -  62 - Processing PowerShell/PowerShell\n",
      "2020-01-12 23:40:42.655560 -  63 - Processing dotnet/aspnetcore\n",
      "2020-01-12 23:40:42.659858 -  64 - Processing Wox-launcher/Wox\n",
      "2020-01-12 23:40:42.661437 -  65 - Processing mxgmn/WaveFunctionCollapse\n",
      "2020-01-12 23:40:42.662188 -  66 - Processing 0xd4d/dnSpy\n",
      "2020-01-12 23:40:42.663170 -  67 - Processing dotnet-architecture/eShopOnContainers\n",
      "2020-01-12 23:40:42.664731 -  68 - Processing dotnet/coreclr\n",
      "2020-01-12 23:40:42.668464 -  69 - Processing dotnet/roslyn\n",
      "2020-01-12 23:40:42.672250 -  70 - Processing StackExchange/Dapper\n",
      "2020-01-12 23:40:42.674695 -  71 - Processing netdata/netdata\n",
      "2020-01-12 23:40:42.676579 -  72 - Processing antirez/redis\n",
      "2020-01-12 23:40:42.685625 -  73 - Processing git/git\n",
      "2020-01-12 23:40:42.716746 -  74 - Processing php/php-src\n",
      "2020-01-12 23:40:42.753983 -  75 - Processing Genymobile/scrcpy\n",
      "2020-01-12 23:40:42.755728 -  76 - Processing ggreer/the_silver_searcher\n",
      "2020-01-12 23:40:42.757899 -  77 - Processing FFmpeg/FFmpeg\n",
      "2020-01-12 23:40:42.770711 -  78 - Processing tmux/tmux\n",
      "2020-01-12 23:40:42.772517 -  79 - Processing stedolan/jq\n",
      "2020-01-12 23:40:42.774174 -  80 - Processing curl/curl\n",
      "2020-01-12 23:40:42.780706 -  81 - Processing rails/rails\n",
      "2020-01-12 23:40:43.258648 -  82 - Processing jekyll/jekyll\n",
      "2020-01-12 23:40:43.264276 -  83 - Processing discourse/discourse\n",
      "2020-01-12 23:40:43.277083 -  84 - Processing fastlane/fastlane\n",
      "2020-01-12 23:40:43.307132 -  85 - Processing huginn/huginn\n",
      "2020-01-12 23:40:43.308301 -  86 - Processing gitlabhq/gitlabhq\n",
      "2020-01-12 23:40:43.348649 -  87 - Processing heartcombo/devise\n",
      "2020-01-12 23:40:43.353729 -  88 - Processing Homebrew/brew\n",
      "2020-01-12 23:40:43.359162 -  89 - Processing tootsuite/mastodon\n",
      "2020-01-12 23:40:43.364122 -  90 - Processing rapid7/metasploit-framework\n",
      "2020-01-12 23:40:43.388423 -  91 - Processing golang/go\n",
      "2020-01-12 23:40:43.395884 -  92 - Processing kubernetes/kubernetes\n",
      "2020-01-12 23:40:43.416880 -  93 - Processing moby/moby\n",
      "2020-01-12 23:40:43.425032 -  94 - Processing gohugoio/hugo\n",
      "2020-01-12 23:40:43.429427 -  95 - Processing gin-gonic/gin\n",
      "2020-01-12 23:40:43.430966 -  96 - Processing gogs/gogs\n",
      "2020-01-12 23:40:43.433543 -  97 - Processing fatedier/frp\n",
      "2020-01-12 23:40:43.436286 -  98 - Processing syncthing/syncthing\n",
      "2020-01-12 23:40:43.452095 -  99 - Processing etcd-io/etcd\n",
      "2020-01-12 23:40:43.459828 - 100 - Processing prometheus/prometheus\n",
      "2020-01-12 23:40:43.465470 - Ended\n"
     ]
    }
   ],
   "source": [
    "def mine_projects(mine_commits=False):\n",
    "    count = 1\n",
    "    projects[\"data\"] = None\n",
    "    for name, project in projects[(projects.data.isnull())].iterrows():\n",
    "        print(f\"{datetime.datetime.now()} - {count:3} - Processing {name}\")\n",
    "        project_group, project_name = name.split(\"/\") \n",
    "        path = os.path.join(repo_path, project_group, f\"{project_name}.git\")\n",
    "        projects.loc[name, \"path\"] = path    \n",
    "\n",
    "        mine_params = {\n",
    "            \"track_base_release\": False\n",
    "        }\n",
    "        if name in release_mine_params:\n",
    "            mine_params.update(release_mine_params[name])\n",
    "        miner = releasy_miner.Miner(name=name,vcs=releasy_git.GitVcs(path), **mine_params)\n",
    "        project = miner.mine_releases()\n",
    "        if mine_commits:\n",
    "            project = miner.mine_commits()\n",
    "        projects.loc[name, \"data\"] = project\n",
    "        count += 1\n",
    "    print(f\"{datetime.datetime.now()} - Ended\")\n",
    "\n",
    "mine_projects()"
   ]
  },
  {
   "cell_type": "markdown",
   "metadata": {},
   "source": [
    "## Projects trial dataset"
   ]
  },
  {
   "cell_type": "code",
   "execution_count": 170,
   "metadata": {},
   "outputs": [],
   "source": [
    "def gen_project_stats():\n",
    "    projects[\"num_common_releases\"] = projects[\"data\"].apply(lambda p : len(p.get_releases(releasy.RELEASE_TYPE_COMMON)))\n",
    "    projects[\"num_major_releases\"] = projects[\"data\"].apply(lambda p : len(p.get_releases(releasy.RELEASE_TYPE_MAJOR)))\n",
    "    projects[\"num_minor_releases\"] = projects[\"data\"].apply(lambda p : len(p.get_releases(releasy.RELEASE_TYPE_MINOR)))\n",
    "    projects[\"num_patch_releases\"] = projects[\"data\"].apply(lambda p : len(p.get_releases(releasy.RELEASE_TYPE_PATCH)))\n",
    "    projects[\"num_duplicated_releases\"] = projects[\"data\"].apply(lambda p : len(p.get_releases(releasy.RELEASE_TYPE_DUPLICATED)))\n",
    "    projects[\"num_pre_releases\"] = projects[\"data\"].apply(lambda p : len(p.get_releases(releasy.RELEASE_TYPE_PRE)))\n",
    "    projects[\"num_releases\"] = projects[\"data\"].apply(lambda p : len(p.get_releases(releasy.RELEASE_TYPE_ANY)))\n",
    "    projects[\"num_tags\"] = projects[\"data\"].apply(lambda p : len(p.tags))\n",
    "    projects[\"per_releases\"] = projects[\"num_releases\"] / projects[\"num_tags\"]\n",
    "    projects[\"per_common_releases\"] = projects[\"num_common_releases\"] / projects[\"num_tags\"]\n",
    "    projects[\"per_pre_releases\"] = projects[\"num_pre_releases\"] / projects[\"num_tags\"]\n",
    "    projects.loc[projects[\"num_tags\"] == 0, \"per_releases\"] = 0\n",
    "gen_project_stats()"
   ]
  },
  {
   "cell_type": "markdown",
   "metadata": {},
   "source": [
    "### Handle release prefix\n",
    "\n",
    "Manual analysis"
   ]
  },
  {
   "cell_type": "code",
   "execution_count": 171,
   "metadata": {
    "scrolled": true
   },
   "outputs": [
    {
     "name": "stdout",
     "output_type": "stream",
     "text": [
      "freeCodeCamp/freeCodeCamp (0)\n",
      "\n",
      "vuejs/vue (2)\n",
      "  -  80 32.1% -  \n",
      "  - 169 67.9% - v \n",
      "\n",
      "facebook/react (2)\n",
      "  - 106 91.4% - v \n",
      "  -  10  8.6% -  \n",
      "\n",
      "twbs/bootstrap (1)\n",
      "  -  55 100.0% - v \n",
      "\n",
      "facebook/react-native (2)\n",
      "  - 303 99.3% - v \n",
      "X -   2  0.7% -  \n",
      "\n",
      "facebook/create-react-app (1)\n",
      "  -  73 100.0% - v \n",
      "\n",
      "axios/axios (2)\n",
      "  -  41 97.6% - v \n",
      "X -   1  2.4% -  \n",
      "\n",
      "nodejs/node (2)\n",
      "  - 539 99.8% - v \n",
      "X -   1  0.2% - heads/tags/v \n",
      "\n",
      "FortAwesome/Font-Awesome (2)\n",
      "  -  22 37.9% - v \n",
      "  -  36 62.1% -  \n",
      "\n",
      "angular/angular.js (1)\n",
      "  - 202 100.0% - v \n",
      "\n",
      "microsoft/vscode (3)\n",
      "  - 117 98.3% -  \n",
      "X -   1  0.8% - release/ \n",
      "X -   1  0.8% - v \n",
      "\n",
      "microsoft/TypeScript (1)\n",
      "  - 111 100.0% - v \n",
      "\n",
      "angular/angular (1)\n",
      "  - 302 100.0% -  \n",
      "\n",
      "ant-design/ant-design (1)\n",
      "  - 284 100.0% -  \n",
      "\n",
      "reduxjs/redux (1)\n",
      "  -  61 100.0% - v \n",
      "\n",
      "storybookjs/storybook (1)\n",
      "  - 693 100.0% - v \n",
      "\n",
      "denoland/deno (1)\n",
      "  -  67 100.0% - v \n",
      "\n",
      "ionic-team/ionic (2)\n",
      "  - 172 99.4% - v \n",
      "X -   1  0.6% -  \n",
      "\n",
      "grafana/grafana (2)\n",
      "  - 129 99.2% - v \n",
      "X -   1  0.8% - v5., \n",
      "\n",
      "zeit/hyper (2)\n",
      "  -  91 96.8% -  \n",
      "X -   3  3.2% - v \n",
      "\n",
      "elastic/elasticsearch (1)\n",
      "  - 243 100.0% - v \n",
      "\n",
      "square/okhttp (2)\n",
      "  -  84 98.8% - parent- \n",
      "X -   1  1.2% -  \n",
      "\n",
      "google/guava (1)\n",
      "  -  76 100.0% - v \n",
      "\n",
      "spring-projects/spring-framework (1)\n",
      "  - 149 100.0% - v \n",
      "\n",
      "square/retrofit (2)\n",
      "  -  11 22.4% -  \n",
      "  -  38 77.6% - parent- \n",
      "\n",
      "apache/dubbo (1)\n",
      "  -  64 100.0% - dubbo- \n",
      "\n",
      "bumptech/glide (1)\n",
      "  -  38 100.0% - v \n",
      "\n",
      "airbnb/lottie-android (3)\n",
      "  -  79 97.5% - v \n",
      "X -   1  1.2% - v. \n",
      "X -   1  1.2% - vv \n",
      "\n",
      "Blankj/AndroidUtilCode (1)\n",
      "  - 112 100.0% -  \n",
      "\n",
      "JakeWharton/butterknife (2)\n",
      "  -  25 54.3% - butterknife-parent- \n",
      "  -  21 45.7% -  \n",
      "\n",
      "ytdl-org/youtube-dl (1)\n",
      "  - 1032 100.0% -  \n",
      "\n",
      "nvbn/thefuck (1)\n",
      "  -  80 100.0% -  \n",
      "\n",
      "pallets/flask (1)\n",
      "  -  30 100.0% -  \n",
      "\n",
      "django/django (1)\n",
      "  - 217 100.0% -  \n",
      "\n",
      "keras-team/keras (1)\n",
      "  -  46 100.0% -  \n",
      "\n",
      "jakubroztocil/httpie (1)\n",
      "  -  35 100.0% -  \n",
      "\n",
      "psf/requests (2)\n",
      "  - 136 99.3% - v \n",
      "X -   1  0.7% -  \n",
      "\n",
      "ansible/ansible (2)\n",
      "X -  13  4.9% -  \n",
      "  - 250 95.1% - v \n",
      "\n",
      "scikit-learn/scikit-learn (1)\n",
      "  -  66 100.0% -  \n",
      "\n",
      "scrapy/scrapy (2)\n",
      "  -  82 98.8% -  \n",
      "X -   1  1.2% - scrapy- \n",
      "\n",
      "laravel/laravel (1)\n",
      "  -  92 100.0% - v \n",
      "\n",
      "blueimp/jQuery-File-Upload (2)\n",
      "  -  67 62.0% -  \n",
      "  -  41 38.0% - v \n",
      "\n",
      "fzaninotto/Faker (1)\n",
      "  -  12 100.0% - v \n",
      "\n",
      "symfony/symfony (1)\n",
      "  - 411 100.0% - v \n",
      "\n",
      "composer/composer (1)\n",
      "  -  61 100.0% -  \n",
      "\n",
      "guzzle/guzzle (2)\n",
      "  -  74 60.2% - v \n",
      "  -  49 39.8% -  \n",
      "\n",
      "bcit-ci/CodeIgniter (2)\n",
      "  -   3  8.1% - v \n",
      "  -  34 91.9% -  \n",
      "\n",
      "Seldaek/monolog (1)\n",
      "  -  47 100.0% -  \n",
      "\n",
      "sebastianbergmann/phpunit (1)\n",
      "  - 546 100.0% -  \n",
      "\n",
      "PHPMailer/PHPMailer (2)\n",
      "  -   6 10.5% - phpmailer- \n",
      "  -  51 89.5% - v \n",
      "\n",
      "tensorflow/tensorflow (2)\n",
      "  -   5  6.4% -  \n",
      "  -  73 93.6% - v \n",
      "\n",
      "electron/electron (1)\n",
      "  - 455 100.0% - v \n",
      "\n",
      "microsoft/terminal (2)\n",
      "  -   3  9.1% -  \n",
      "  -  30 90.9% - v \n",
      "\n",
      "apple/swift (1)\n",
      "  - 561 100.0% - swift- \n",
      "\n",
      "bitcoin/bitcoin (1)\n",
      "  - 215 100.0% - v \n",
      "\n",
      "opencv/opencv (1)\n",
      "  -  79 100.0% -  \n",
      "\n",
      "protocolbuffers/protobuf (1)\n",
      "  -  60 100.0% - v \n",
      "\n",
      "pytorch/pytorch (1)\n",
      "  -  21 100.0% - v \n",
      "\n",
      "x64dbg/x64dbg (2)\n",
      "  -  25 96.2% - V \n",
      "X -   1  3.8% -  \n",
      "\n",
      "tesseract-ocr/tesseract (1)\n",
      "  -  41 100.0% -  \n",
      "\n",
      "shadowsocks/shadowsocks-windows (1)\n",
      "  -  52 100.0% -  \n",
      "\n",
      "PowerShell/PowerShell (1)\n",
      "  -  50 100.0% - v \n",
      "\n",
      "dotnet/aspnetcore (2)\n",
      "  -  46 54.1% - v \n",
      "  -  39 45.9% -  \n",
      "\n",
      "Wox-launcher/Wox (2)\n",
      "  -  24 88.9% - v \n",
      "  -   3 11.1% -  \n",
      "\n",
      "mxgmn/WaveFunctionCollapse (0)\n",
      "\n",
      "0xd4d/dnSpy (1)\n",
      "  -   2 100.0% - v \n",
      "\n",
      "dotnet-architecture/eShopOnContainers (3)\n",
      "  -   2 18.2% - netcore \n",
      "  -   7 63.6% -  \n",
      "  -   2 18.2% - v \n",
      "\n",
      "dotnet/coreclr (1)\n",
      "  -  75 100.0% - v \n",
      "\n",
      "dotnet/roslyn (1)\n",
      "  -  40 100.0% - version- \n",
      "\n",
      "StackExchange/Dapper (1)\n",
      "  -  60 100.0% -  \n",
      "\n",
      "netdata/netdata (1)\n",
      "  -  25 100.0% - v \n",
      "\n",
      "antirez/redis (2)\n",
      "  - 201 92.2% -  \n",
      "  -  17  7.8% - v \n",
      "\n",
      "git/git (1)\n",
      "  - 676 100.0% - v \n",
      "\n",
      "php/php-src (2)\n",
      "  - 802 99.8% - php- \n",
      "X -   2  0.2% - PHP- \n",
      "\n",
      "Genymobile/scrcpy (1)\n",
      "  -  15 100.0% - v \n",
      "\n",
      "ggreer/the_silver_searcher (1)\n",
      "  -  49 100.0% -  \n",
      "\n",
      "FFmpeg/FFmpeg (3)\n",
      "X -   6  1.9% - v \n",
      "X -   1  0.3% - ffmpeg- \n",
      "  - 307 97.8% - n \n",
      "\n",
      "tmux/tmux (1)\n",
      "  -  23 100.0% -  \n",
      "\n",
      "stedolan/jq (2)\n",
      "  -  10 90.9% - jq- \n",
      "  -   1  9.1% -  \n",
      "\n",
      "curl/curl (3)\n",
      "  - 160 98.8% - curl- \n",
      "X -   1  0.6% - v \n",
      "X -   1  0.6% - curl_ \n",
      "\n",
      "rails/rails (1)\n",
      "  - 364 100.0% - v \n",
      "\n",
      "jekyll/jekyll (1)\n",
      "  - 135 100.0% - v \n",
      "\n",
      "discourse/discourse (1)\n",
      "  - 304 100.0% - v \n",
      "\n",
      "fastlane/fastlane (2)\n",
      "  - 393 99.7% -  \n",
      "X -   1  0.3% - v \n",
      "\n",
      "huginn/huginn (0)\n",
      "\n",
      "gitlabhq/gitlabhq (1)\n",
      "  - 981 100.0% - v \n",
      "\n",
      "heartcombo/devise (1)\n",
      "  - 135 100.0% - v \n",
      "\n",
      "Homebrew/brew (1)\n",
      "  - 123 100.0% -  \n",
      "\n",
      "tootsuite/mastodon (1)\n",
      "  - 122 100.0% - v \n",
      "\n",
      "rapid7/metasploit-framework (2)\n",
      "  - 323 99.7% -  \n",
      "X -   1  0.3% - v \n",
      "\n",
      "golang/go (2)\n",
      "  -   7  5.4% - release.r \n",
      "  - 122 94.6% - go \n",
      "\n",
      "kubernetes/kubernetes (1)\n",
      "  - 498 100.0% - v \n",
      "\n",
      "moby/moby (2)\n",
      "X -   1  0.6% -  \n",
      "  - 179 99.4% - v \n",
      "\n",
      "gohugoio/hugo (1)\n",
      "  - 106 100.0% - v \n",
      "\n",
      "gin-gonic/gin (1)\n",
      "  -  18 100.0% - v \n",
      "\n",
      "gogs/gogs (1)\n",
      "  -  55 100.0% - v \n",
      "\n",
      "fatedier/frp (1)\n",
      "  -  50 100.0% - v \n",
      "\n",
      "syncthing/syncthing (1)\n",
      "  - 342 100.0% - v \n",
      "\n",
      "etcd-io/etcd (1)\n",
      "  - 159 100.0% - v \n",
      "\n",
      "prometheus/prometheus (2)\n",
      "  -  49 39.2% -  \n",
      "  -  76 60.8% - v \n",
      "\n",
      "\n",
      "23 prefixes with less than 5%\n",
      "19 projects with prefixes with less than 5%\n"
     ]
    }
   ],
   "source": [
    "i = 0\n",
    "p = 0\n",
    "for name, project in projects.iterrows():\n",
    "    prefixes = project[\"data\"].release_prefixes\n",
    "    print(f\"{name} ({len(prefixes)})\")\n",
    "    inc = False\n",
    "    for prefix, count in prefixes.items():\n",
    "        prefix_percent = round(count * 100 / project.num_releases,1)\n",
    "        if prefix_percent < 5:\n",
    "            i += 1\n",
    "            if not inc:\n",
    "                p += 1\n",
    "                inc = True\n",
    "        print(f\"{'X' if prefix_percent < 5 else '':1} - {count:3} {prefix_percent:4}% - {prefix} \")\n",
    "    print()\n",
    "print(f\"\\n{i} prefixes with less than 5%\")\n",
    "print(f\"{p} projects with prefixes with less than 5%\")"
   ]
  },
  {
   "cell_type": "markdown",
   "metadata": {},
   "source": [
    "Results"
   ]
  },
  {
   "cell_type": "code",
   "execution_count": 172,
   "metadata": {},
   "outputs": [],
   "source": [
    "release_prefixes = {\n",
    "    \"facebook/create-react-app\": [\"v\"],\n",
    "    \"angular/angular.js\": [\"v\"],\n",
    "    \"microsoft/vscode\": [\"\",\"v\",\"release/\"],\n",
    "    \"angular/angular\": [\"\"],\n",
    "    \"google/guava\": [\"v\"],\n",
    "    \"scikit-learn/scikit-learn\": [\"\"],\n",
    "    \"tensorflow/tensorflow\": [\"\",\"v\"],\n",
    "    \"dotnet/roslyn\": [\"version-\"],\n",
    "    \"git/git\": [\"v\"],\n",
    "    \"php/php-src\": [\"php-\",\"PHP-\"],\n",
    "    \"jekyll/jekyll\": [\"v\"],\n",
    "    \"curl/curl\":  [\"curl-\", \"v\", \"curl_\"],\n",
    "    \"fastlane/fastlane\": [\"\",\"v\"],\n",
    "    \"moby/moby\": [\"\",\"v\"]\n",
    "}\n",
    "\n",
    "for name in release_prefixes:\n",
    "    if name not in release_mine_params:\n",
    "        release_mine_params[name] = {}\n",
    "    release_mine_params[name].update({ \"release_prefixes\": release_prefixes[name] })"
   ]
  },
  {
   "cell_type": "markdown",
   "metadata": {},
   "source": [
    "### Handle release suffix"
   ]
  },
  {
   "cell_type": "code",
   "execution_count": 173,
   "metadata": {
    "scrolled": true
   },
   "outputs": [
    {
     "name": "stdout",
     "output_type": "stream",
     "text": [
      "tensorflow/tensorflow (6)\n",
      "X -  19 24.4% - rc0 \n",
      "tensorflow/tensorflow (6)\n",
      "X -  16 20.5% - rc1 \n",
      "microsoft/terminal (2)\n",
      "X -  30 90.9% - 0 \n",
      "bitcoin/bitcoin (16)\n",
      "X -  44 20.5% - rc1 \n",
      "x64dbg/x64dbg (1)\n",
      "X -  26 100.0% - ALPHA \n",
      "php/php-src (53)\n",
      "X - 243 30.2% - RC1 \n",
      "kubernetes/kubernetes (27)\n",
      "X - 159 31.9% - beta.0 \n",
      "\n",
      "7 suffixes with more than 20%\n"
     ]
    }
   ],
   "source": [
    "i = 0\n",
    "for name, project in projects.iterrows():\n",
    "    suffixes = project[\"data\"].release_suffixes\n",
    "    for suffix, count in suffixes.items():\n",
    "        suffix_percent = round(count * 100 / project.num_releases,1)\n",
    "        if suffix_percent > 20 and suffix != \"\":\n",
    "            i += 1\n",
    "            print(f\"{name} ({len(suffixes)})\")\n",
    "            print(f\"{'X' if (suffix_percent > 20 and suffix != '') else '':1} - {count:3} {suffix_percent:4}% - {suffix} \")\n",
    "print(f\"\\n{i} suffixes with more than 20%\")"
   ]
  },
  {
   "cell_type": "code",
   "execution_count": 174,
   "metadata": {},
   "outputs": [],
   "source": [
    "release_ignored_suffixes = {\n",
    "    \"spring-projects/spring-framework\": [\"RELEASE\"],\n",
    "}\n",
    "\n",
    "for name in release_ignored_suffixes:\n",
    "    if name not in release_mine_params:\n",
    "        release_mine_params[name] = {}\n",
    "    release_mine_params[name] = { \"ignored_suffixes\": release_ignored_suffixes[name] }"
   ]
  },
  {
   "cell_type": "code",
   "execution_count": 175,
   "metadata": {},
   "outputs": [
    {
     "data": {
      "text/plain": [
       "{'curl/curl': {'version_separator': '_',\n",
       "  'release_prefixes': ['curl-', 'v', 'curl_']},\n",
       " 'facebook/create-react-app': {'release_prefixes': ['v']},\n",
       " 'angular/angular.js': {'release_prefixes': ['v']},\n",
       " 'microsoft/vscode': {'release_prefixes': ['', 'v', 'release/']},\n",
       " 'angular/angular': {'release_prefixes': ['']},\n",
       " 'google/guava': {'release_prefixes': ['v']},\n",
       " 'scikit-learn/scikit-learn': {'release_prefixes': ['']},\n",
       " 'tensorflow/tensorflow': {'release_prefixes': ['', 'v']},\n",
       " 'dotnet/roslyn': {'release_prefixes': ['version-']},\n",
       " 'git/git': {'release_prefixes': ['v']},\n",
       " 'php/php-src': {'release_prefixes': ['php-', 'PHP-']},\n",
       " 'jekyll/jekyll': {'release_prefixes': ['v']},\n",
       " 'fastlane/fastlane': {'release_prefixes': ['', 'v']},\n",
       " 'moby/moby': {'release_prefixes': ['', 'v']},\n",
       " 'spring-projects/spring-framework': {'ignored_suffixes': ['RELEASE']}}"
      ]
     },
     "execution_count": 175,
     "metadata": {},
     "output_type": "execute_result"
    }
   ],
   "source": [
    "release_mine_params"
   ]
  },
  {
   "cell_type": "markdown",
   "metadata": {},
   "source": [
    "## Project Dataset"
   ]
  },
  {
   "cell_type": "code",
   "execution_count": 176,
   "metadata": {},
   "outputs": [
    {
     "name": "stdout",
     "output_type": "stream",
     "text": [
      "2020-01-12 23:41:00.934673 -   1 - Processing freeCodeCamp/freeCodeCamp\n",
      "2020-01-12 23:41:00.936112 -   2 - Processing vuejs/vue\n",
      "2020-01-12 23:41:01.053336 -   3 - Processing facebook/react\n",
      "2020-01-12 23:41:01.317581 -   4 - Processing twbs/bootstrap\n",
      "2020-01-12 23:41:01.676928 -   5 - Processing facebook/react-native\n",
      "2020-01-12 23:41:02.073380 -   6 - Processing facebook/create-react-app\n",
      "2020-01-12 23:41:02.606117 -   7 - Processing axios/axios\n",
      "2020-01-12 23:41:02.627291 -   8 - Processing nodejs/node\n",
      "2020-01-12 23:41:03.686181 -   9 - Processing FortAwesome/Font-Awesome\n",
      "2020-01-12 23:41:03.710217 -  10 - Processing angular/angular.js\n",
      "2020-01-12 23:41:03.962011 -  11 - Processing microsoft/vscode\n",
      "2020-01-12 23:41:05.456414 -  12 - Processing microsoft/TypeScript\n",
      "2020-01-12 23:41:06.070688 -  13 - Processing angular/angular\n",
      "2020-01-12 23:41:06.425136 -  14 - Processing ant-design/ant-design\n",
      "2020-01-12 23:41:07.124271 -  15 - Processing reduxjs/redux\n",
      "2020-01-12 23:41:07.181478 -  16 - Processing storybookjs/storybook\n",
      "2020-01-12 23:41:07.750774 -  17 - Processing denoland/deno\n",
      "2020-01-12 23:41:07.804500 -  18 - Processing ionic-team/ionic\n",
      "2020-01-12 23:41:08.091737 -  19 - Processing grafana/grafana\n",
      "2020-01-12 23:41:08.534890 -  20 - Processing zeit/hyper\n",
      "2020-01-12 23:41:08.564164 -  21 - Processing elastic/elasticsearch\n",
      "2020-01-12 23:41:10.660891 -  22 - Processing square/okhttp\n",
      "2020-01-12 23:41:10.755054 -  23 - Processing google/guava\n",
      "2020-01-12 23:41:10.867755 -  24 - Processing spring-projects/spring-framework\n",
      "2020-01-12 23:41:11.298311 -  25 - Processing square/retrofit\n",
      "2020-01-12 23:41:11.335541 -  26 - Processing apache/dubbo\n",
      "2020-01-12 23:41:11.423973 -  27 - Processing bumptech/glide\n",
      "2020-01-12 23:41:11.473129 -  28 - Processing airbnb/lottie-android\n",
      "2020-01-12 23:41:11.499427 -  29 - Processing Blankj/AndroidUtilCode\n",
      "2020-01-12 23:41:11.523873 -  30 - Processing JakeWharton/butterknife\n",
      "2020-01-12 23:41:11.545279 -  31 - Processing ytdl-org/youtube-dl\n",
      "2020-01-12 23:41:11.914108 -  32 - Processing nvbn/thefuck\n",
      "2020-01-12 23:41:11.945333 -  33 - Processing pallets/flask\n",
      "2020-01-12 23:41:12.018131 -  34 - Processing django/django\n",
      "2020-01-12 23:41:12.735158 -  35 - Processing keras-team/keras\n",
      "2020-01-12 23:41:12.828821 -  36 - Processing jakubroztocil/httpie\n",
      "2020-01-12 23:41:12.851526 -  37 - Processing psf/requests\n",
      "2020-01-12 23:41:12.959727 -  38 - Processing ansible/ansible\n",
      "2020-01-12 23:41:14.589950 -  39 - Processing scikit-learn/scikit-learn\n",
      "2020-01-12 23:41:15.068325 -  40 - Processing scrapy/scrapy\n",
      "2020-01-12 23:41:15.227621 -  41 - Processing laravel/laravel\n",
      "2020-01-12 23:41:15.372370 -  42 - Processing blueimp/jQuery-File-Upload\n",
      "2020-01-12 23:41:15.404582 -  43 - Processing fzaninotto/Faker\n",
      "2020-01-12 23:41:15.471166 -  44 - Processing symfony/symfony\n",
      "2020-01-12 23:41:16.832320 -  45 - Processing composer/composer\n",
      "2020-01-12 23:41:17.035979 -  46 - Processing guzzle/guzzle\n",
      "2020-01-12 23:41:17.117857 -  47 - Processing bcit-ci/CodeIgniter\n",
      "2020-01-12 23:41:17.329208 -  48 - Processing Seldaek/monolog\n",
      "2020-01-12 23:41:17.390029 -  49 - Processing sebastianbergmann/phpunit\n",
      "2020-01-12 23:41:17.730538 -  50 - Processing PHPMailer/PHPMailer\n",
      "2020-01-12 23:41:17.772870 -  51 - Processing tensorflow/tensorflow\n",
      "2020-01-12 23:41:19.670892 -  52 - Processing electron/electron\n",
      "2020-01-12 23:41:20.212642 -  53 - Processing microsoft/terminal\n",
      "2020-01-12 23:41:20.237536 -  54 - Processing apple/swift\n",
      "2020-01-12 23:41:27.598363 -  55 - Processing bitcoin/bitcoin\n",
      "2020-01-12 23:41:28.349951 -  56 - Processing opencv/opencv\n",
      "2020-01-12 23:41:28.999810 -  57 - Processing protocolbuffers/protobuf\n",
      "2020-01-12 23:41:29.182270 -  58 - Processing pytorch/pytorch\n",
      "2020-01-12 23:41:29.517391 -  59 - Processing x64dbg/x64dbg\n",
      "2020-01-12 23:41:29.543391 -  60 - Processing tesseract-ocr/tesseract\n",
      "2020-01-12 23:41:29.655618 -  61 - Processing shadowsocks/shadowsocks-windows\n",
      "2020-01-12 23:41:29.686859 -  62 - Processing PowerShell/PowerShell\n",
      "2020-01-12 23:41:29.854139 -  63 - Processing dotnet/aspnetcore\n",
      "2020-01-12 23:41:31.711377 -  64 - Processing Wox-launcher/Wox\n",
      "2020-01-12 23:41:31.768905 -  65 - Processing mxgmn/WaveFunctionCollapse\n",
      "2020-01-12 23:41:31.769773 -  66 - Processing 0xd4d/dnSpy\n",
      "2020-01-12 23:41:31.837750 -  67 - Processing dotnet-architecture/eShopOnContainers\n",
      "2020-01-12 23:41:31.921006 -  68 - Processing dotnet/coreclr\n",
      "2020-01-12 23:41:32.532654 -  69 - Processing dotnet/roslyn\n",
      "2020-01-12 23:41:33.528630 -  70 - Processing StackExchange/Dapper\n",
      "2020-01-12 23:41:33.563644 -  71 - Processing netdata/netdata\n",
      "2020-01-12 23:41:33.772757 -  72 - Processing antirez/redis\n",
      "2020-01-12 23:41:34.040352 -  73 - Processing git/git\n",
      "2020-01-12 23:41:35.713486 -  74 - Processing php/php-src\n",
      "2020-01-12 23:41:38.370549 -  75 - Processing Genymobile/scrcpy\n",
      "2020-01-12 23:41:38.387887 -  76 - Processing ggreer/the_silver_searcher\n",
      "2020-01-12 23:41:38.435132 -  77 - Processing FFmpeg/FFmpeg\n",
      "2020-01-12 23:41:41.917605 -  78 - Processing tmux/tmux\n",
      "2020-01-12 23:41:42.067694 -  79 - Processing stedolan/jq\n",
      "2020-01-12 23:41:42.093290 -  80 - Processing curl/curl\n",
      "2020-01-12 23:41:42.545995 -  81 - Processing rails/rails\n",
      "2020-01-12 23:41:44.666993 -  82 - Processing jekyll/jekyll\n",
      "2020-01-12 23:41:44.918468 -  83 - Processing discourse/discourse\n",
      "2020-01-12 23:41:45.642344 -  84 - Processing fastlane/fastlane\n",
      "2020-01-12 23:41:45.997567 -  85 - Processing huginn/huginn\n",
      "2020-01-12 23:41:45.998654 -  86 - Processing gitlabhq/gitlabhq\n",
      "2020-01-12 23:41:50.984346 -  87 - Processing heartcombo/devise\n",
      "2020-01-12 23:41:51.078434 -  88 - Processing Homebrew/brew\n",
      "2020-01-12 23:41:51.530795 -  89 - Processing tootsuite/mastodon\n",
      "2020-01-12 23:41:51.693651 -  90 - Processing rapid7/metasploit-framework\n",
      "2020-01-12 23:41:53.057774 -  91 - Processing golang/go\n",
      "2020-01-12 23:41:53.965600 -  92 - Processing kubernetes/kubernetes\n",
      "2020-01-12 23:41:56.845778 -  93 - Processing moby/moby\n",
      "2020-01-12 23:41:57.862635 -  94 - Processing gohugoio/hugo\n",
      "2020-01-12 23:41:57.990571 -  95 - Processing gin-gonic/gin\n",
      "2020-01-12 23:41:58.023225 -  96 - Processing gogs/gogs\n",
      "2020-01-12 23:41:58.139242 -  97 - Processing fatedier/frp\n",
      "2020-01-12 23:41:58.164015 -  98 - Processing syncthing/syncthing\n",
      "2020-01-12 23:41:58.294536 -  99 - Processing etcd-io/etcd\n",
      "2020-01-12 23:41:58.666620 - 100 - Processing prometheus/prometheus\n",
      "2020-01-12 23:41:58.830559 - Ended\n"
     ]
    }
   ],
   "source": [
    "mine_projects(True)\n",
    "gen_project_stats()"
   ]
  },
  {
   "cell_type": "markdown",
   "metadata": {},
   "source": [
    "## Tags dataset"
   ]
  },
  {
   "cell_type": "code",
   "execution_count": 178,
   "metadata": {},
   "outputs": [],
   "source": [
    "tags = []\n",
    "for project in projects[\"data\"]:\n",
    "    for tag in project.tags:\n",
    "        tag = {\n",
    "            \"project\": project.name,\n",
    "            \"name\": tag.name,\n",
    "            \"data\": tag\n",
    "        }\n",
    "        tags.append(tag)\n",
    "tags = pd.DataFrame(tags)\n",
    "tags.set_index([\"project\", \"name\"], inplace=True)"
   ]
  },
  {
   "cell_type": "code",
   "execution_count": 179,
   "metadata": {},
   "outputs": [],
   "source": [
    "tags[\"annotated\"] = tags[\"data\"].apply(lambda t: t.is_annotated)"
   ]
  },
  {
   "cell_type": "markdown",
   "metadata": {},
   "source": [
    "## Releases dataset"
   ]
  },
  {
   "cell_type": "code",
   "execution_count": 180,
   "metadata": {},
   "outputs": [],
   "source": [
    "releases = []\n",
    "for project in projects[\"data\"]:#.apply(lambda project: project):\n",
    "    for release in project.releases:\n",
    "        releases.append({\n",
    "            \"project\": project.name,\n",
    "            \"name\": release.name,\n",
    "            \"data\": release\n",
    "        })\n",
    "releases = pd.DataFrame(releases)\n",
    "releases.set_index([\"project\",\"name\"], inplace=True)"
   ]
  },
  {
   "cell_type": "code",
   "execution_count": null,
   "metadata": {},
   "outputs": [],
   "source": [
    "releases[\"prefix\"] = releases[\"data\"].apply(lambda r: r.prefix)\n",
    "releases[\"head_commit\"] = releases[\"data\"].apply(lambda r: r.head_commit.hashcode)\n",
    "\n",
    "releases[\"time\"] = releases[\"data\"].apply(lambda r: r.get_time())\n",
    "releases[\"start_development\"] = releases[\"data\"].apply(lambda r: r.get_time(of=releasy.START_DEVELOPMENT_TIME))\n",
    "releases[\"length\"] = releases[\"data\"].apply(lambda r: r.get_length())\n",
    "# releases.loc[releases[\"length\"] == pd.to_timedelta(0), \"length\"] = np.NaN\n"
   ]
  },
  {
   "cell_type": "code",
   "execution_count": null,
   "metadata": {},
   "outputs": [],
   "source": [
    "releases.shape"
   ]
  },
  {
   "cell_type": "code",
   "execution_count": null,
   "metadata": {},
   "outputs": [],
   "source": []
  },
  {
   "cell_type": "code",
   "execution_count": null,
   "metadata": {},
   "outputs": [],
   "source": [
    "def get_prefixes(project):\n",
    "    prefixes = {}\n",
    "    for release in project.releases:\n",
    "        prefix = release.prefix\n",
    "        if not prefix:\n",
    "            prefix = \"None\"\n",
    "        if prefix not in prefixes:\n",
    "            prefixes[prefix] = 0\n",
    "        prefixes[prefix] += 1\n",
    "    return prefixes\n",
    "\n",
    "projects[\"num_prefixes\"] = projects[\"data\"].apply(lambda project: len(get_prefixes(project).keys()))\n",
    "projects[\"prefixes\"] = projects[\"data\"].apply(lambda project: \",\".join(get_prefixes(project).keys()))"
   ]
  },
  {
   "cell_type": "markdown",
   "metadata": {},
   "source": [
    "### show release prefixes"
   ]
  },
  {
   "cell_type": "code",
   "execution_count": null,
   "metadata": {
    "scrolled": false
   },
   "outputs": [],
   "source": [
    "projects_to_screen = projects[(projects[\"num_prefixes\"] > 1) & (~projects.index.isin(release_prefixes.keys()))]\n",
    "print(projects_to_screen.shape[0])\n",
    "projects_to_screen.sort_values([\"name\"])[\"prefixes\"]"
   ]
  },
  {
   "cell_type": "markdown",
   "metadata": {},
   "source": [
    "### Manual inpection of releases"
   ]
  },
  {
   "cell_type": "code",
   "execution_count": null,
   "metadata": {
    "scrolled": false
   },
   "outputs": [],
   "source": [
    "releases.loc[\"angular/angular\"]"
   ]
  },
  {
   "cell_type": "markdown",
   "metadata": {},
   "source": [
    "\n",
    "Other resources"
   ]
  },
  {
   "cell_type": "code",
   "execution_count": null,
   "metadata": {},
   "outputs": [],
   "source": [
    "n_tags = 0\n",
    "for name, project in projects.iterrows():\n",
    "    project_group, project_name = name.split(\"/\") \n",
    "    path = os.path.join(repo_path, project_group, f\"{project_name}.git\")\n",
    "    %cd $path\n",
    "    n_tag = !(git tag | wc -l)\n",
    "    n_tag = int(n_tag[0])\n",
    "    n_tags += n_tag\n",
    "print(n_tags)"
   ]
  }
 ],
 "metadata": {
  "kernelspec": {
   "display_name": "Python 3",
   "language": "python",
   "name": "python3"
  },
  "language_info": {
   "codemirror_mode": {
    "name": "ipython",
    "version": 3
   },
   "file_extension": ".py",
   "mimetype": "text/x-python",
   "name": "python",
   "nbconvert_exporter": "python",
   "pygments_lexer": "ipython3",
   "version": "3.7.4"
  }
 },
 "nbformat": 4,
 "nbformat_minor": 2
}
